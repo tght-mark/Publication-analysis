{
 "cells": [
  {
   "cell_type": "code",
   "execution_count": 266,
   "id": "a8bc38f5",
   "metadata": {},
   "outputs": [
    {
     "name": "stdout",
     "output_type": "stream",
     "text": [
      "Requirement already satisfied: pandas in c:\\users\\markt\\appdata\\local\\programs\\python\\python310\\lib\\site-packages (1.5.1)\n",
      "Requirement already satisfied: pytz>=2020.1 in c:\\users\\markt\\appdata\\local\\programs\\python\\python310\\lib\\site-packages (from pandas) (2022.6)\n",
      "Requirement already satisfied: python-dateutil>=2.8.1 in c:\\users\\markt\\appdata\\local\\programs\\python\\python310\\lib\\site-packages (from pandas) (2.8.2)\n",
      "Requirement already satisfied: numpy>=1.21.0 in c:\\users\\markt\\appdata\\local\\programs\\python\\python310\\lib\\site-packages (from pandas) (1.23.4)\n",
      "Requirement already satisfied: six>=1.5 in c:\\users\\markt\\appdata\\local\\programs\\python\\python310\\lib\\site-packages (from python-dateutil>=2.8.1->pandas) (1.16.0)\n"
     ]
    },
    {
     "name": "stderr",
     "output_type": "stream",
     "text": [
      "WARNING: You are using pip version 22.0.4; however, version 22.3.1 is available.\n",
      "You should consider upgrading via the 'C:\\Users\\markt\\AppData\\Local\\Programs\\Python\\Python310\\python.exe -m pip install --upgrade pip' command.\n"
     ]
    },
    {
     "name": "stdout",
     "output_type": "stream",
     "text": [
      "Requirement already satisfied: statsmodels in c:\\users\\markt\\appdata\\local\\programs\\python\\python310\\lib\\site-packages (0.13.5)\n",
      "Requirement already satisfied: numpy>=1.22.3 in c:\\users\\markt\\appdata\\local\\programs\\python\\python310\\lib\\site-packages (from statsmodels) (1.23.4)\n",
      "Requirement already satisfied: packaging>=21.3 in c:\\users\\markt\\appdata\\local\\programs\\python\\python310\\lib\\site-packages (from statsmodels) (21.3)\n",
      "Requirement already satisfied: scipy>=1.3 in c:\\users\\markt\\appdata\\local\\programs\\python\\python310\\lib\\site-packages (from statsmodels) (1.9.3)\n",
      "Requirement already satisfied: patsy>=0.5.2 in c:\\users\\markt\\appdata\\local\\programs\\python\\python310\\lib\\site-packages (from statsmodels) (0.5.3)\n",
      "Requirement already satisfied: pandas>=0.25 in c:\\users\\markt\\appdata\\local\\programs\\python\\python310\\lib\\site-packages (from statsmodels) (1.5.1)\n",
      "Requirement already satisfied: pyparsing!=3.0.5,>=2.0.2 in c:\\users\\markt\\appdata\\local\\programs\\python\\python310\\lib\\site-packages (from packaging>=21.3->statsmodels) (3.0.9)\n",
      "Requirement already satisfied: python-dateutil>=2.8.1 in c:\\users\\markt\\appdata\\local\\programs\\python\\python310\\lib\\site-packages (from pandas>=0.25->statsmodels) (2.8.2)\n",
      "Requirement already satisfied: pytz>=2020.1 in c:\\users\\markt\\appdata\\local\\programs\\python\\python310\\lib\\site-packages (from pandas>=0.25->statsmodels) (2022.6)\n",
      "Requirement already satisfied: six in c:\\users\\markt\\appdata\\local\\programs\\python\\python310\\lib\\site-packages (from patsy>=0.5.2->statsmodels) (1.16.0)\n"
     ]
    },
    {
     "name": "stderr",
     "output_type": "stream",
     "text": [
      "WARNING: You are using pip version 22.0.4; however, version 22.3.1 is available.\n",
      "You should consider upgrading via the 'C:\\Users\\markt\\AppData\\Local\\Programs\\Python\\Python310\\python.exe -m pip install --upgrade pip' command.\n"
     ]
    },
    {
     "name": "stdout",
     "output_type": "stream",
     "text": [
      "Requirement already satisfied: matplotlib in c:\\users\\markt\\appdata\\local\\programs\\python\\python310\\lib\\site-packages (3.6.2)\n",
      "Requirement already satisfied: pillow>=6.2.0 in c:\\users\\markt\\appdata\\local\\programs\\python\\python310\\lib\\site-packages (from matplotlib) (9.3.0)\n",
      "Requirement already satisfied: python-dateutil>=2.7 in c:\\users\\markt\\appdata\\local\\programs\\python\\python310\\lib\\site-packages (from matplotlib) (2.8.2)\n",
      "Requirement already satisfied: numpy>=1.19 in c:\\users\\markt\\appdata\\local\\programs\\python\\python310\\lib\\site-packages (from matplotlib) (1.23.4)\n",
      "Requirement already satisfied: cycler>=0.10 in c:\\users\\markt\\appdata\\local\\programs\\python\\python310\\lib\\site-packages (from matplotlib) (0.11.0)\n",
      "Requirement already satisfied: packaging>=20.0 in c:\\users\\markt\\appdata\\local\\programs\\python\\python310\\lib\\site-packages (from matplotlib) (21.3)\n",
      "Requirement already satisfied: pyparsing>=2.2.1 in c:\\users\\markt\\appdata\\local\\programs\\python\\python310\\lib\\site-packages (from matplotlib) (3.0.9)\n",
      "Requirement already satisfied: kiwisolver>=1.0.1 in c:\\users\\markt\\appdata\\local\\programs\\python\\python310\\lib\\site-packages (from matplotlib) (1.4.4)\n",
      "Requirement already satisfied: contourpy>=1.0.1 in c:\\users\\markt\\appdata\\local\\programs\\python\\python310\\lib\\site-packages (from matplotlib) (1.0.6)\n",
      "Requirement already satisfied: fonttools>=4.22.0 in c:\\users\\markt\\appdata\\local\\programs\\python\\python310\\lib\\site-packages (from matplotlib) (4.38.0)\n",
      "Requirement already satisfied: six>=1.5 in c:\\users\\markt\\appdata\\local\\programs\\python\\python310\\lib\\site-packages (from python-dateutil>=2.7->matplotlib) (1.16.0)\n"
     ]
    },
    {
     "name": "stderr",
     "output_type": "stream",
     "text": [
      "WARNING: You are using pip version 22.0.4; however, version 22.3.1 is available.\n",
      "You should consider upgrading via the 'C:\\Users\\markt\\AppData\\Local\\Programs\\Python\\Python310\\python.exe -m pip install --upgrade pip' command.\n"
     ]
    },
    {
     "name": "stdout",
     "output_type": "stream",
     "text": [
      "Requirement already satisfied: seaborn in c:\\users\\markt\\appdata\\local\\programs\\python\\python310\\lib\\site-packages (0.12.1)\n",
      "Requirement already satisfied: pandas>=0.25 in c:\\users\\markt\\appdata\\local\\programs\\python\\python310\\lib\\site-packages (from seaborn) (1.5.1)\n",
      "Requirement already satisfied: numpy>=1.17 in c:\\users\\markt\\appdata\\local\\programs\\python\\python310\\lib\\site-packages (from seaborn) (1.23.4)\n",
      "Requirement already satisfied: matplotlib!=3.6.1,>=3.1 in c:\\users\\markt\\appdata\\local\\programs\\python\\python310\\lib\\site-packages (from seaborn) (3.6.2)\n",
      "Requirement already satisfied: fonttools>=4.22.0 in c:\\users\\markt\\appdata\\local\\programs\\python\\python310\\lib\\site-packages (from matplotlib!=3.6.1,>=3.1->seaborn) (4.38.0)\n",
      "Requirement already satisfied: cycler>=0.10 in c:\\users\\markt\\appdata\\local\\programs\\python\\python310\\lib\\site-packages (from matplotlib!=3.6.1,>=3.1->seaborn) (0.11.0)\n",
      "Requirement already satisfied: kiwisolver>=1.0.1 in c:\\users\\markt\\appdata\\local\\programs\\python\\python310\\lib\\site-packages (from matplotlib!=3.6.1,>=3.1->seaborn) (1.4.4)\n",
      "Requirement already satisfied: packaging>=20.0 in c:\\users\\markt\\appdata\\local\\programs\\python\\python310\\lib\\site-packages (from matplotlib!=3.6.1,>=3.1->seaborn) (21.3)\n",
      "Requirement already satisfied: pillow>=6.2.0 in c:\\users\\markt\\appdata\\local\\programs\\python\\python310\\lib\\site-packages (from matplotlib!=3.6.1,>=3.1->seaborn) (9.3.0)\n",
      "Requirement already satisfied: python-dateutil>=2.7 in c:\\users\\markt\\appdata\\local\\programs\\python\\python310\\lib\\site-packages (from matplotlib!=3.6.1,>=3.1->seaborn) (2.8.2)\n",
      "Requirement already satisfied: contourpy>=1.0.1 in c:\\users\\markt\\appdata\\local\\programs\\python\\python310\\lib\\site-packages (from matplotlib!=3.6.1,>=3.1->seaborn) (1.0.6)\n",
      "Requirement already satisfied: pyparsing>=2.2.1 in c:\\users\\markt\\appdata\\local\\programs\\python\\python310\\lib\\site-packages (from matplotlib!=3.6.1,>=3.1->seaborn) (3.0.9)\n",
      "Requirement already satisfied: pytz>=2020.1 in c:\\users\\markt\\appdata\\local\\programs\\python\\python310\\lib\\site-packages (from pandas>=0.25->seaborn) (2022.6)\n",
      "Requirement already satisfied: six>=1.5 in c:\\users\\markt\\appdata\\local\\programs\\python\\python310\\lib\\site-packages (from python-dateutil>=2.7->matplotlib!=3.6.1,>=3.1->seaborn) (1.16.0)\n"
     ]
    },
    {
     "name": "stderr",
     "output_type": "stream",
     "text": [
      "WARNING: You are using pip version 22.0.4; however, version 22.3.1 is available.\n",
      "You should consider upgrading via the 'C:\\Users\\markt\\AppData\\Local\\Programs\\Python\\Python310\\python.exe -m pip install --upgrade pip' command.\n"
     ]
    },
    {
     "name": "stdout",
     "output_type": "stream",
     "text": [
      "Requirement already satisfied: numpy in c:\\users\\markt\\appdata\\local\\programs\\python\\python310\\lib\\site-packages (1.23.4)\n"
     ]
    },
    {
     "name": "stderr",
     "output_type": "stream",
     "text": [
      "WARNING: You are using pip version 22.0.4; however, version 22.3.1 is available.\n",
      "You should consider upgrading via the 'C:\\Users\\markt\\AppData\\Local\\Programs\\Python\\Python310\\python.exe -m pip install --upgrade pip' command.\n"
     ]
    },
    {
     "name": "stdout",
     "output_type": "stream",
     "text": [
      "Requirement already satisfied: linearmodels in c:\\users\\markt\\appdata\\local\\programs\\python\\python310\\lib\\site-packages (4.27)\n",
      "Requirement already satisfied: pandas>=0.24 in c:\\users\\markt\\appdata\\local\\programs\\python\\python310\\lib\\site-packages (from linearmodels) (1.5.1)\n",
      "Requirement already satisfied: mypy-extensions>=0.4 in c:\\users\\markt\\appdata\\local\\programs\\python\\python310\\lib\\site-packages (from linearmodels) (0.4.3)\n",
      "Requirement already satisfied: formulaic~=0.3.2 in c:\\users\\markt\\appdata\\local\\programs\\python\\python310\\lib\\site-packages (from linearmodels) (0.3.4)\n",
      "Requirement already satisfied: property-cached>=1.6.3 in c:\\users\\markt\\appdata\\local\\programs\\python\\python310\\lib\\site-packages (from linearmodels) (1.6.4)\n",
      "Requirement already satisfied: numpy>=1.16 in c:\\users\\markt\\appdata\\local\\programs\\python\\python310\\lib\\site-packages (from linearmodels) (1.23.4)\n",
      "Requirement already satisfied: Cython>=0.29.21 in c:\\users\\markt\\appdata\\local\\programs\\python\\python310\\lib\\site-packages (from linearmodels) (0.29.32)\n",
      "Requirement already satisfied: setuptools-scm<7.0.0,>=6.4.2 in c:\\users\\markt\\appdata\\local\\programs\\python\\python310\\lib\\site-packages (from linearmodels) (6.4.2)\n",
      "Requirement already satisfied: statsmodels>=0.11 in c:\\users\\markt\\appdata\\local\\programs\\python\\python310\\lib\\site-packages (from linearmodels) (0.13.5)\n",
      "Requirement already satisfied: pyhdfe>=0.1 in c:\\users\\markt\\appdata\\local\\programs\\python\\python310\\lib\\site-packages (from linearmodels) (0.1.1)\n",
      "Requirement already satisfied: scipy>=1.2 in c:\\users\\markt\\appdata\\local\\programs\\python\\python310\\lib\\site-packages (from linearmodels) (1.9.3)\n",
      "Requirement already satisfied: astor>=0.8 in c:\\users\\markt\\appdata\\local\\programs\\python\\python310\\lib\\site-packages (from formulaic~=0.3.2->linearmodels) (0.8.1)\n",
      "Requirement already satisfied: wrapt>=1.0 in c:\\users\\markt\\appdata\\local\\programs\\python\\python310\\lib\\site-packages (from formulaic~=0.3.2->linearmodels) (1.14.1)\n",
      "Requirement already satisfied: interface-meta<2.0.0,>=1.2.0 in c:\\users\\markt\\appdata\\local\\programs\\python\\python310\\lib\\site-packages (from formulaic~=0.3.2->linearmodels) (1.3.0)\n",
      "Requirement already satisfied: python-dateutil>=2.8.1 in c:\\users\\markt\\appdata\\local\\programs\\python\\python310\\lib\\site-packages (from pandas>=0.24->linearmodels) (2.8.2)\n",
      "Requirement already satisfied: pytz>=2020.1 in c:\\users\\markt\\appdata\\local\\programs\\python\\python310\\lib\\site-packages (from pandas>=0.24->linearmodels) (2022.6)\n",
      "Requirement already satisfied: setuptools in c:\\users\\markt\\appdata\\local\\programs\\python\\python310\\lib\\site-packages (from setuptools-scm<7.0.0,>=6.4.2->linearmodels) (58.1.0)\n",
      "Requirement already satisfied: tomli>=1.0.0 in c:\\users\\markt\\appdata\\local\\programs\\python\\python310\\lib\\site-packages (from setuptools-scm<7.0.0,>=6.4.2->linearmodels) (2.0.1)\n",
      "Requirement already satisfied: packaging>=20.0 in c:\\users\\markt\\appdata\\local\\programs\\python\\python310\\lib\\site-packages (from setuptools-scm<7.0.0,>=6.4.2->linearmodels) (21.3)\n",
      "Requirement already satisfied: patsy>=0.5.2 in c:\\users\\markt\\appdata\\local\\programs\\python\\python310\\lib\\site-packages (from statsmodels>=0.11->linearmodels) (0.5.3)\n",
      "Requirement already satisfied: pyparsing!=3.0.5,>=2.0.2 in c:\\users\\markt\\appdata\\local\\programs\\python\\python310\\lib\\site-packages (from packaging>=20.0->setuptools-scm<7.0.0,>=6.4.2->linearmodels) (3.0.9)\n",
      "Requirement already satisfied: six in c:\\users\\markt\\appdata\\local\\programs\\python\\python310\\lib\\site-packages (from patsy>=0.5.2->statsmodels>=0.11->linearmodels) (1.16.0)\n"
     ]
    },
    {
     "name": "stderr",
     "output_type": "stream",
     "text": [
      "WARNING: You are using pip version 22.0.4; however, version 22.3.1 is available.\n",
      "You should consider upgrading via the 'C:\\Users\\markt\\AppData\\Local\\Programs\\Python\\Python310\\python.exe -m pip install --upgrade pip' command.\n"
     ]
    }
   ],
   "source": [
    "!pip install pandas\n",
    "!pip install statsmodels\n",
    "!pip install matplotlib\n",
    "!pip install seaborn\n",
    "!pip install numpy\n",
    "!pip install linearmodels\n",
    "\n"
   ]
  },
  {
   "cell_type": "code",
   "execution_count": 267,
   "id": "9adc6d3e",
   "metadata": {},
   "outputs": [],
   "source": [
    "import pandas as pd\n",
    "import seaborn as sns\n",
    "import numpy as np\n",
    "import matplotlib.pyplot as plt\n",
    "import statsmodels.api as sm\n",
    "from linearmodels.panel import PanelOLS\n",
    "from linearmodels import RandomEffects"
   ]
  },
  {
   "cell_type": "code",
   "execution_count": 268,
   "id": "de369f31",
   "metadata": {},
   "outputs": [],
   "source": [
    "data = pd.read_csv(\"aggregate_analysis.csv\")"
   ]
  },
  {
   "cell_type": "code",
   "execution_count": 269,
   "id": "5bb30396",
   "metadata": {},
   "outputs": [
    {
     "data": {
      "text/html": [
       "<div>\n",
       "<style scoped>\n",
       "    .dataframe tbody tr th:only-of-type {\n",
       "        vertical-align: middle;\n",
       "    }\n",
       "\n",
       "    .dataframe tbody tr th {\n",
       "        vertical-align: top;\n",
       "    }\n",
       "\n",
       "    .dataframe thead th {\n",
       "        text-align: right;\n",
       "    }\n",
       "</style>\n",
       "<table border=\"1\" class=\"dataframe\">\n",
       "  <thead>\n",
       "    <tr style=\"text-align: right;\">\n",
       "      <th></th>\n",
       "      <th>Year</th>\n",
       "      <th>Country</th>\n",
       "      <th>COV19D</th>\n",
       "      <th>IMPORTS</th>\n",
       "      <th>LN_IMPORTS</th>\n",
       "      <th>EXPORTS</th>\n",
       "      <th>LN_EXPORTS</th>\n",
       "      <th>TRADE</th>\n",
       "      <th>LN_Trade</th>\n",
       "      <th>Distance (km)</th>\n",
       "      <th>...</th>\n",
       "      <th>LNGDPPCD</th>\n",
       "      <th>POPP</th>\n",
       "      <th>POPCHN</th>\n",
       "      <th>LN_PPOP</th>\n",
       "      <th>EXRATE</th>\n",
       "      <th>1/EXRATE</th>\n",
       "      <th>LN_EXRATE</th>\n",
       "      <th>TFreePart</th>\n",
       "      <th>TFreeCHN</th>\n",
       "      <th>TFREE_DIFF</th>\n",
       "    </tr>\n",
       "  </thead>\n",
       "  <tbody>\n",
       "    <tr>\n",
       "      <th>0</th>\n",
       "      <td>2010</td>\n",
       "      <td>Germany</td>\n",
       "      <td>0</td>\n",
       "      <td>2591987825</td>\n",
       "      <td>21.675691</td>\n",
       "      <td>1725180656</td>\n",
       "      <td>21.268598</td>\n",
       "      <td>4.317168e+09</td>\n",
       "      <td>22.185866</td>\n",
       "      <td>20031.0</td>\n",
       "      <td>...</td>\n",
       "      <td>1.751497</td>\n",
       "      <td>81776930</td>\n",
       "      <td>1337705000</td>\n",
       "      <td>39.233727</td>\n",
       "      <td>8.92700</td>\n",
       "      <td>0.112020</td>\n",
       "      <td>-2.189080</td>\n",
       "      <td>87.5</td>\n",
       "      <td>72.4</td>\n",
       "      <td>2.714695</td>\n",
       "    </tr>\n",
       "    <tr>\n",
       "      <th>1</th>\n",
       "      <td>2011</td>\n",
       "      <td>Germany</td>\n",
       "      <td>0</td>\n",
       "      <td>2979152876</td>\n",
       "      <td>21.814905</td>\n",
       "      <td>2366531085</td>\n",
       "      <td>21.584691</td>\n",
       "      <td>5.345684e+09</td>\n",
       "      <td>22.399555</td>\n",
       "      <td>20031.0</td>\n",
       "      <td>...</td>\n",
       "      <td>1.126286</td>\n",
       "      <td>80274983</td>\n",
       "      <td>1345035000</td>\n",
       "      <td>39.220654</td>\n",
       "      <td>9.03000</td>\n",
       "      <td>0.110742</td>\n",
       "      <td>-2.200552</td>\n",
       "      <td>87.6</td>\n",
       "      <td>73.0</td>\n",
       "      <td>2.681022</td>\n",
       "    </tr>\n",
       "    <tr>\n",
       "      <th>2</th>\n",
       "      <td>2012</td>\n",
       "      <td>Germany</td>\n",
       "      <td>0</td>\n",
       "      <td>2705465085</td>\n",
       "      <td>21.718540</td>\n",
       "      <td>2459484622</td>\n",
       "      <td>21.623218</td>\n",
       "      <td>5.164950e+09</td>\n",
       "      <td>22.365161</td>\n",
       "      <td>20031.0</td>\n",
       "      <td>...</td>\n",
       "      <td>1.932153</td>\n",
       "      <td>80425823</td>\n",
       "      <td>1354190000</td>\n",
       "      <td>39.229315</td>\n",
       "      <td>8.14500</td>\n",
       "      <td>0.122775</td>\n",
       "      <td>-2.097404</td>\n",
       "      <td>87.1</td>\n",
       "      <td>73.2</td>\n",
       "      <td>2.631889</td>\n",
       "    </tr>\n",
       "    <tr>\n",
       "      <th>3</th>\n",
       "      <td>2013</td>\n",
       "      <td>Germany</td>\n",
       "      <td>0</td>\n",
       "      <td>2639359939</td>\n",
       "      <td>21.693802</td>\n",
       "      <td>2762299546</td>\n",
       "      <td>21.739329</td>\n",
       "      <td>5.401659e+09</td>\n",
       "      <td>22.409972</td>\n",
       "      <td>20031.0</td>\n",
       "      <td>...</td>\n",
       "      <td>1.929616</td>\n",
       "      <td>80645605</td>\n",
       "      <td>1363240000</td>\n",
       "      <td>39.238705</td>\n",
       "      <td>8.15370</td>\n",
       "      <td>0.122644</td>\n",
       "      <td>-2.098472</td>\n",
       "      <td>86.8</td>\n",
       "      <td>73.6</td>\n",
       "      <td>2.580217</td>\n",
       "    </tr>\n",
       "    <tr>\n",
       "      <th>4</th>\n",
       "      <td>2014</td>\n",
       "      <td>Germany</td>\n",
       "      <td>0</td>\n",
       "      <td>2714297801</td>\n",
       "      <td>21.721799</td>\n",
       "      <td>2539061807</td>\n",
       "      <td>21.655060</td>\n",
       "      <td>5.253360e+09</td>\n",
       "      <td>22.382134</td>\n",
       "      <td>20031.0</td>\n",
       "      <td>...</td>\n",
       "      <td>1.602699</td>\n",
       "      <td>80982500</td>\n",
       "      <td>1371860000</td>\n",
       "      <td>39.249177</td>\n",
       "      <td>7.94020</td>\n",
       "      <td>0.125941</td>\n",
       "      <td>-2.071938</td>\n",
       "      <td>87.8</td>\n",
       "      <td>72.8</td>\n",
       "      <td>2.708050</td>\n",
       "    </tr>\n",
       "    <tr>\n",
       "      <th>...</th>\n",
       "      <td>...</td>\n",
       "      <td>...</td>\n",
       "      <td>...</td>\n",
       "      <td>...</td>\n",
       "      <td>...</td>\n",
       "      <td>...</td>\n",
       "      <td>...</td>\n",
       "      <td>...</td>\n",
       "      <td>...</td>\n",
       "      <td>...</td>\n",
       "      <td>...</td>\n",
       "      <td>...</td>\n",
       "      <td>...</td>\n",
       "      <td>...</td>\n",
       "      <td>...</td>\n",
       "      <td>...</td>\n",
       "      <td>...</td>\n",
       "      <td>...</td>\n",
       "      <td>...</td>\n",
       "      <td>...</td>\n",
       "      <td>...</td>\n",
       "    </tr>\n",
       "    <tr>\n",
       "      <th>67</th>\n",
       "      <td>2017</td>\n",
       "      <td>Italy</td>\n",
       "      <td>0</td>\n",
       "      <td>1039367497</td>\n",
       "      <td>20.761878</td>\n",
       "      <td>1136987397</td>\n",
       "      <td>20.851648</td>\n",
       "      <td>2.176355e+09</td>\n",
       "      <td>20.851648</td>\n",
       "      <td>18099.6</td>\n",
       "      <td>...</td>\n",
       "      <td>1.499964</td>\n",
       "      <td>60536709</td>\n",
       "      <td>1412360000</td>\n",
       "      <td>38.987288</td>\n",
       "      <td>7.79500</td>\n",
       "      <td>0.128287</td>\n",
       "      <td>-2.053483</td>\n",
       "      <td>87.0</td>\n",
       "      <td>72.0</td>\n",
       "      <td>2.708050</td>\n",
       "    </tr>\n",
       "    <tr>\n",
       "      <th>68</th>\n",
       "      <td>2018</td>\n",
       "      <td>Italy</td>\n",
       "      <td>0</td>\n",
       "      <td>1175217819</td>\n",
       "      <td>20.884719</td>\n",
       "      <td>1103369636</td>\n",
       "      <td>20.821635</td>\n",
       "      <td>2.278587e+09</td>\n",
       "      <td>20.821635</td>\n",
       "      <td>18099.6</td>\n",
       "      <td>...</td>\n",
       "      <td>1.635862</td>\n",
       "      <td>60421760</td>\n",
       "      <td>1411100000</td>\n",
       "      <td>38.984495</td>\n",
       "      <td>7.78800</td>\n",
       "      <td>0.128403</td>\n",
       "      <td>-2.052584</td>\n",
       "      <td>86.9</td>\n",
       "      <td>71.6</td>\n",
       "      <td>2.727853</td>\n",
       "    </tr>\n",
       "    <tr>\n",
       "      <th>69</th>\n",
       "      <td>2019</td>\n",
       "      <td>Italy</td>\n",
       "      <td>0</td>\n",
       "      <td>1164018557</td>\n",
       "      <td>20.875144</td>\n",
       "      <td>958256869</td>\n",
       "      <td>20.680626</td>\n",
       "      <td>2.122275e+09</td>\n",
       "      <td>20.680626</td>\n",
       "      <td>18099.6</td>\n",
       "      <td>...</td>\n",
       "      <td>1.363230</td>\n",
       "      <td>59729081</td>\n",
       "      <td>1412360000</td>\n",
       "      <td>38.973857</td>\n",
       "      <td>7.77300</td>\n",
       "      <td>0.128650</td>\n",
       "      <td>-2.050656</td>\n",
       "      <td>86.0</td>\n",
       "      <td>71.6</td>\n",
       "      <td>2.667228</td>\n",
       "    </tr>\n",
       "    <tr>\n",
       "      <th>70</th>\n",
       "      <td>2020</td>\n",
       "      <td>Italy</td>\n",
       "      <td>1</td>\n",
       "      <td>973585482</td>\n",
       "      <td>20.696496</td>\n",
       "      <td>942735432</td>\n",
       "      <td>20.664296</td>\n",
       "      <td>1.916321e+09</td>\n",
       "      <td>20.664296</td>\n",
       "      <td>18099.6</td>\n",
       "      <td>...</td>\n",
       "      <td>2.360334</td>\n",
       "      <td>59449527</td>\n",
       "      <td>1411100000</td>\n",
       "      <td>38.968274</td>\n",
       "      <td>7.91300</td>\n",
       "      <td>0.126374</td>\n",
       "      <td>-2.068507</td>\n",
       "      <td>86.4</td>\n",
       "      <td>72.2</td>\n",
       "      <td>2.653242</td>\n",
       "    </tr>\n",
       "    <tr>\n",
       "      <th>71</th>\n",
       "      <td>2021</td>\n",
       "      <td>Italy</td>\n",
       "      <td>1</td>\n",
       "      <td>1194784884</td>\n",
       "      <td>20.901232</td>\n",
       "      <td>1393224268</td>\n",
       "      <td>21.054887</td>\n",
       "      <td>2.588009e+09</td>\n",
       "      <td>21.054887</td>\n",
       "      <td>18099.6</td>\n",
       "      <td>...</td>\n",
       "      <td>-0.389338</td>\n",
       "      <td>59066225</td>\n",
       "      <td>1412360000</td>\n",
       "      <td>38.962698</td>\n",
       "      <td>7.81725</td>\n",
       "      <td>0.127922</td>\n",
       "      <td>-2.056333</td>\n",
       "      <td>84.0</td>\n",
       "      <td>73.2</td>\n",
       "      <td>2.379546</td>\n",
       "    </tr>\n",
       "  </tbody>\n",
       "</table>\n",
       "<p>72 rows × 30 columns</p>\n",
       "</div>"
      ],
      "text/plain": [
       "    Year  Country  COV19D     IMPORTS  LN_IMPORTS     EXPORTS  LN_EXPORTS  \\\n",
       "0   2010  Germany       0  2591987825   21.675691  1725180656   21.268598   \n",
       "1   2011  Germany       0  2979152876   21.814905  2366531085   21.584691   \n",
       "2   2012  Germany       0  2705465085   21.718540  2459484622   21.623218   \n",
       "3   2013  Germany       0  2639359939   21.693802  2762299546   21.739329   \n",
       "4   2014  Germany       0  2714297801   21.721799  2539061807   21.655060   \n",
       "..   ...      ...     ...         ...         ...         ...         ...   \n",
       "67  2017    Italy       0  1039367497   20.761878  1136987397   20.851648   \n",
       "68  2018    Italy       0  1175217819   20.884719  1103369636   20.821635   \n",
       "69  2019    Italy       0  1164018557   20.875144   958256869   20.680626   \n",
       "70  2020    Italy       1   973585482   20.696496   942735432   20.664296   \n",
       "71  2021    Italy       1  1194784884   20.901232  1393224268   21.054887   \n",
       "\n",
       "               TRADE   LN_Trade  Distance (km)  ...  LNGDPPCD      POPP  \\\n",
       "0       4.317168e+09  22.185866        20031.0  ...  1.751497  81776930   \n",
       "1       5.345684e+09  22.399555        20031.0  ...  1.126286  80274983   \n",
       "2       5.164950e+09  22.365161        20031.0  ...  1.932153  80425823   \n",
       "3       5.401659e+09  22.409972        20031.0  ...  1.929616  80645605   \n",
       "4       5.253360e+09  22.382134        20031.0  ...  1.602699  80982500   \n",
       "..               ...        ...            ...  ...       ...       ...   \n",
       "67      2.176355e+09  20.851648        18099.6  ...  1.499964  60536709   \n",
       "68      2.278587e+09  20.821635        18099.6  ...  1.635862  60421760   \n",
       "69      2.122275e+09  20.680626        18099.6  ...  1.363230  59729081   \n",
       "70      1.916321e+09  20.664296        18099.6  ...  2.360334  59449527   \n",
       "71      2.588009e+09  21.054887        18099.6  ... -0.389338  59066225   \n",
       "\n",
       "        POPCHN    LN_PPOP   EXRATE  1/EXRATE  LN_EXRATE  TFreePart  TFreeCHN  \\\n",
       "0   1337705000  39.233727  8.92700  0.112020  -2.189080       87.5      72.4   \n",
       "1   1345035000  39.220654  9.03000  0.110742  -2.200552       87.6      73.0   \n",
       "2   1354190000  39.229315  8.14500  0.122775  -2.097404       87.1      73.2   \n",
       "3   1363240000  39.238705  8.15370  0.122644  -2.098472       86.8      73.6   \n",
       "4   1371860000  39.249177  7.94020  0.125941  -2.071938       87.8      72.8   \n",
       "..         ...        ...      ...       ...        ...        ...       ...   \n",
       "67  1412360000  38.987288  7.79500  0.128287  -2.053483       87.0      72.0   \n",
       "68  1411100000  38.984495  7.78800  0.128403  -2.052584       86.9      71.6   \n",
       "69  1412360000  38.973857  7.77300  0.128650  -2.050656       86.0      71.6   \n",
       "70  1411100000  38.968274  7.91300  0.126374  -2.068507       86.4      72.2   \n",
       "71  1412360000  38.962698  7.81725  0.127922  -2.056333       84.0      73.2   \n",
       "\n",
       "    TFREE_DIFF  \n",
       "0     2.714695  \n",
       "1     2.681022  \n",
       "2     2.631889  \n",
       "3     2.580217  \n",
       "4     2.708050  \n",
       "..         ...  \n",
       "67    2.708050  \n",
       "68    2.727853  \n",
       "69    2.667228  \n",
       "70    2.653242  \n",
       "71    2.379546  \n",
       "\n",
       "[72 rows x 30 columns]"
      ]
     },
     "execution_count": 269,
     "metadata": {},
     "output_type": "execute_result"
    }
   ],
   "source": [
    "data"
   ]
  },
  {
   "cell_type": "code",
   "execution_count": 270,
   "id": "5bc3a12e",
   "metadata": {},
   "outputs": [
    {
     "data": {
      "text/plain": [
       "<AxesSubplot: xlabel='LN_GDPCHN', ylabel='LN_Trade'>"
      ]
     },
     "execution_count": 270,
     "metadata": {},
     "output_type": "execute_result"
    },
    {
     "data": {
      "image/png": "[encoded data removed]",
      "text/plain": [
       "<Figure size 432x288 with 1 Axes>"
      ]
     },
     "metadata": {
      "needs_background": "light"
     },
     "output_type": "display_data"
    }
   ],
   "source": [
    " data.plot(x = 'LN_GDPCHN', y = 'LN_Trade', kind = 'scatter', c = 'r')"
   ]
  },
  {
   "cell_type": "code",
   "execution_count": 271,
   "id": "a1da5455",
   "metadata": {},
   "outputs": [
    {
     "name": "stderr",
     "output_type": "stream",
     "text": [
      "C:\\Users\\markt\\AppData\\Local\\Programs\\Python\\Python310\\lib\\site-packages\\pandas\\plotting\\_matplotlib\\core.py:1259: UserWarning: No data for colormapping provided via 'c'. Parameters 'cmap' will be ignored\n",
      "  scatter = ax.scatter(\n"
     ]
    },
    {
     "data": {
      "text/plain": [
       "<AxesSubplot: xlabel='LN_GDPPartner', ylabel='LN_Trade'>"
      ]
     },
     "execution_count": 271,
     "metadata": {},
     "output_type": "execute_result"
    },
    {
     "data": {
      "image/png": "[encoded data removed]",
      "text/plain": [
       "<Figure size 432x288 with 1 Axes>"
      ]
     },
     "metadata": {
      "needs_background": "light"
     },
     "output_type": "display_data"
    }
   ],
   "source": [
    " data.plot(x = 'LN_GDPPartner', y = 'LN_Trade', kind = 'scatter', c = 'b')"
   ]
  },
  {
   "cell_type": "code",
   "execution_count": 272,
   "id": "a837940d",
   "metadata": {},
   "outputs": [],
   "source": [
    "dep_var1 = data[\"LN_GDPCHN\"]\n",
    "dep_var2 = data[\"LN_GDPPartner\"]\n",
    "exp_var1 = data[\"LN_Trade\"]\n"
   ]
  },
  {
   "cell_type": "code",
   "execution_count": 273,
   "id": "05e9a8ee",
   "metadata": {},
   "outputs": [
    {
     "data": {
      "text/html": [
       "<div>\n",
       "<style scoped>\n",
       "    .dataframe tbody tr th:only-of-type {\n",
       "        vertical-align: middle;\n",
       "    }\n",
       "\n",
       "    .dataframe tbody tr th {\n",
       "        vertical-align: top;\n",
       "    }\n",
       "\n",
       "    .dataframe thead th {\n",
       "        text-align: right;\n",
       "    }\n",
       "</style>\n",
       "<table border=\"1\" class=\"dataframe\">\n",
       "  <thead>\n",
       "    <tr style=\"text-align: right;\">\n",
       "      <th></th>\n",
       "      <th>const</th>\n",
       "      <th>LN_Trade</th>\n",
       "    </tr>\n",
       "  </thead>\n",
       "  <tbody>\n",
       "    <tr>\n",
       "      <th>0</th>\n",
       "      <td>1.0</td>\n",
       "      <td>22.185866</td>\n",
       "    </tr>\n",
       "    <tr>\n",
       "      <th>1</th>\n",
       "      <td>1.0</td>\n",
       "      <td>22.399555</td>\n",
       "    </tr>\n",
       "    <tr>\n",
       "      <th>2</th>\n",
       "      <td>1.0</td>\n",
       "      <td>22.365161</td>\n",
       "    </tr>\n",
       "    <tr>\n",
       "      <th>3</th>\n",
       "      <td>1.0</td>\n",
       "      <td>22.409972</td>\n",
       "    </tr>\n",
       "    <tr>\n",
       "      <th>4</th>\n",
       "      <td>1.0</td>\n",
       "      <td>22.382134</td>\n",
       "    </tr>\n",
       "    <tr>\n",
       "      <th>...</th>\n",
       "      <td>...</td>\n",
       "      <td>...</td>\n",
       "    </tr>\n",
       "    <tr>\n",
       "      <th>67</th>\n",
       "      <td>1.0</td>\n",
       "      <td>20.851648</td>\n",
       "    </tr>\n",
       "    <tr>\n",
       "      <th>68</th>\n",
       "      <td>1.0</td>\n",
       "      <td>20.821635</td>\n",
       "    </tr>\n",
       "    <tr>\n",
       "      <th>69</th>\n",
       "      <td>1.0</td>\n",
       "      <td>20.680626</td>\n",
       "    </tr>\n",
       "    <tr>\n",
       "      <th>70</th>\n",
       "      <td>1.0</td>\n",
       "      <td>20.664296</td>\n",
       "    </tr>\n",
       "    <tr>\n",
       "      <th>71</th>\n",
       "      <td>1.0</td>\n",
       "      <td>21.054887</td>\n",
       "    </tr>\n",
       "  </tbody>\n",
       "</table>\n",
       "<p>72 rows × 2 columns</p>\n",
       "</div>"
      ],
      "text/plain": [
       "    const   LN_Trade\n",
       "0     1.0  22.185866\n",
       "1     1.0  22.399555\n",
       "2     1.0  22.365161\n",
       "3     1.0  22.409972\n",
       "4     1.0  22.382134\n",
       "..    ...        ...\n",
       "67    1.0  20.851648\n",
       "68    1.0  20.821635\n",
       "69    1.0  20.680626\n",
       "70    1.0  20.664296\n",
       "71    1.0  21.054887\n",
       "\n",
       "[72 rows x 2 columns]"
      ]
     },
     "execution_count": 273,
     "metadata": {},
     "output_type": "execute_result"
    }
   ],
   "source": [
    "exp_var1 = sm.add_constant(exp_var1)\n",
    "exp_var1\n"
   ]
  },
  {
   "cell_type": "markdown",
   "id": "2fa6f326",
   "metadata": {},
   "source": [
    "-TRADE ON CHINA GDP\n"
   ]
  },
  {
   "cell_type": "code",
   "execution_count": 274,
   "id": "b70e0cdc",
   "metadata": {},
   "outputs": [
    {
     "name": "stdout",
     "output_type": "stream",
     "text": [
      "                            OLS Regression Results                            \n",
      "==============================================================================\n",
      "Dep. Variable:              LN_GDPCHN   R-squared:                       0.036\n",
      "Model:                            OLS   Adj. R-squared:                  0.022\n",
      "Method:                 Least Squares   F-statistic:                     2.626\n",
      "Date:                Sun, 13 Nov 2022   Prob (F-statistic):              0.110\n",
      "Time:                        13:54:23   Log-Likelihood:                -29.286\n",
      "No. Observations:                  72   AIC:                             62.57\n",
      "Df Residuals:                      70   BIC:                             67.12\n",
      "Df Model:                           1                                         \n",
      "Covariance Type:            nonrobust                                         \n",
      "==============================================================================\n",
      "                 coef    std err          t      P>|t|      [0.025      0.975]\n",
      "------------------------------------------------------------------------------\n",
      "const          4.1331      1.361      3.037      0.003       1.418       6.848\n",
      "LN_Trade      -0.1014      0.063     -1.620      0.110      -0.226       0.023\n",
      "==============================================================================\n",
      "Omnibus:                       43.085   Durbin-Watson:                   1.706\n",
      "Prob(Omnibus):                  0.000   Jarque-Bera (JB):              104.483\n",
      "Skew:                          -2.083   Prob(JB):                     2.05e-23\n",
      "Kurtosis:                       7.180   Cond. No.                         683.\n",
      "==============================================================================\n",
      "\n",
      "Notes:\n",
      "[1] Standard Errors assume that the covariance matrix of the errors is correctly specified.\n"
     ]
    }
   ],
   "source": [
    "model1 = sm.OLS(dep_var1, exp_var1)\n",
    "result = model1.fit()\n",
    "print(result.summary())"
   ]
  },
  {
   "cell_type": "markdown",
   "id": "a2643fcf",
   "metadata": {},
   "source": [
    "Insights\n",
    "- No reportable significance,"
   ]
  },
  {
   "cell_type": "markdown",
   "id": "cd733a1f",
   "metadata": {},
   "source": [
    "##How other factors of growth affect GDPCHN"
   ]
  },
  {
   "cell_type": "code",
   "execution_count": 275,
   "id": "5434a743",
   "metadata": {},
   "outputs": [
    {
     "name": "stdout",
     "output_type": "stream",
     "text": [
      "                            OLS Regression Results                            \n",
      "==============================================================================\n",
      "Dep. Variable:              LN_GDPCHN   R-squared:                       0.542\n",
      "Model:                            OLS   Adj. R-squared:                  0.500\n",
      "Method:                 Least Squares   F-statistic:                     12.82\n",
      "Date:                Sun, 13 Nov 2022   Prob (F-statistic):           1.70e-09\n",
      "Time:                        13:54:23   Log-Likelihood:                -2.5033\n",
      "No. Observations:                  72   AIC:                             19.01\n",
      "Df Residuals:                      65   BIC:                             34.94\n",
      "Df Model:                           6                                         \n",
      "Covariance Type:            nonrobust                                         \n",
      "===============================================================================\n",
      "                  coef    std err          t      P>|t|      [0.025      0.975]\n",
      "-------------------------------------------------------------------------------\n",
      "const           4.7440      1.790      2.650      0.010       1.169       8.319\n",
      "LN_Distance    -0.0324      0.138     -0.234      0.816      -0.308       0.244\n",
      "LN_PPOP        -0.0106      0.034     -0.313      0.756      -0.078       0.057\n",
      "LN_EXRATE      -0.0056      0.026     -0.221      0.826      -0.057       0.045\n",
      "TFREE_DIFF     -0.6772      0.142     -4.755      0.000      -0.962      -0.393\n",
      "COV19D         -0.8551      0.099     -8.674      0.000      -1.052      -0.658\n",
      "LNGDPPCD       -0.1317      0.068     -1.928      0.058      -0.268       0.005\n",
      "==============================================================================\n",
      "Omnibus:                        1.323   Durbin-Watson:                   0.884\n",
      "Prob(Omnibus):                  0.516   Jarque-Bera (JB):                1.133\n",
      "Skew:                           0.305   Prob(JB):                        0.567\n",
      "Kurtosis:                       2.928   Cond. No.                     2.30e+03\n",
      "==============================================================================\n",
      "\n",
      "Notes:\n",
      "[1] Standard Errors assume that the covariance matrix of the errors is correctly specified.\n",
      "[2] The condition number is large, 2.3e+03. This might indicate that there are\n",
      "strong multicollinearity or other numerical problems.\n"
     ]
    }
   ],
   "source": [
    "exp_var5 = data[[\"LN_Distance\",\"LN_PPOP\",\"LN_EXRATE\",\"TFREE_DIFF\",\"COV19D\",\"LNGDPPCD\"]]\n",
    "dep_var6 = data[\"LN_GDPCHN\"]\n",
    "\n",
    "exp_var5 = sm.add_constant(exp_var5)\n",
    "exp_var5\n",
    "\n",
    "model6 = sm.OLS(dep_var6, exp_var5)\n",
    "result = model6.fit()\n",
    "print(result.summary()) "
   ]
  },
  {
   "cell_type": "markdown",
   "id": "aee5c865",
   "metadata": {},
   "source": [
    "Insights\n",
    "- A 1percent increase in occurence of covid, decreased the GDP growth OF China by -0.62%\n",
    "- A 1percent increase in difference in trade freedom between both countries, decreased the GDP growth OF China by -0.53%"
   ]
  },
  {
   "cell_type": "markdown",
   "id": "fd894e49",
   "metadata": {},
   "source": [
    "-Trade on EU GDP\n"
   ]
  },
  {
   "cell_type": "code",
   "execution_count": 276,
   "id": "d3e15507",
   "metadata": {},
   "outputs": [
    {
     "name": "stdout",
     "output_type": "stream",
     "text": [
      "                            OLS Regression Results                            \n",
      "==============================================================================\n",
      "Dep. Variable:          LN_GDPPartner   R-squared:                       0.069\n",
      "Model:                            OLS   Adj. R-squared:                  0.055\n",
      "Method:                 Least Squares   F-statistic:                     5.165\n",
      "Date:                Sun, 13 Nov 2022   Prob (F-statistic):             0.0261\n",
      "Time:                        13:54:23   Log-Likelihood:                -106.83\n",
      "No. Observations:                  72   AIC:                             217.7\n",
      "Df Residuals:                      70   BIC:                             222.2\n",
      "Df Model:                           1                                         \n",
      "Covariance Type:            nonrobust                                         \n",
      "==============================================================================\n",
      "                 coef    std err          t      P>|t|      [0.025      0.975]\n",
      "------------------------------------------------------------------------------\n",
      "const         -8.5956      3.996     -2.151      0.035     -16.566      -0.626\n",
      "LN_Trade       0.4177      0.184      2.273      0.026       0.051       0.784\n",
      "==============================================================================\n",
      "Omnibus:                       51.044   Durbin-Watson:                   1.607\n",
      "Prob(Omnibus):                  0.000   Jarque-Bera (JB):              244.561\n",
      "Skew:                          -2.056   Prob(JB):                     7.84e-54\n",
      "Kurtosis:                      11.038   Cond. No.                         683.\n",
      "==============================================================================\n",
      "\n",
      "Notes:\n",
      "[1] Standard Errors assume that the covariance matrix of the errors is correctly specified.\n"
     ]
    }
   ],
   "source": [
    "model2 = sm.OLS(dep_var2, exp_var1)\n",
    "result = model2.fit()\n",
    "print(result.summary())"
   ]
  },
  {
   "cell_type": "markdown",
   "id": "f545db07",
   "metadata": {},
   "source": [
    "Insights\n",
    "- A 1percent increase in trade, increased the GDP OF EU by 0.4percent"
   ]
  },
  {
   "cell_type": "markdown",
   "id": "5ea67c9b",
   "metadata": {},
   "source": [
    "##Effect of other factors of growth on EU GDP"
   ]
  },
  {
   "cell_type": "code",
   "execution_count": 277,
   "id": "a49068ed",
   "metadata": {},
   "outputs": [
    {
     "name": "stdout",
     "output_type": "stream",
     "text": [
      "                            OLS Regression Results                            \n",
      "==============================================================================\n",
      "Dep. Variable:          LN_GDPPartner   R-squared:                       0.325\n",
      "Model:                            OLS   Adj. R-squared:                  0.263\n",
      "Method:                 Least Squares   F-statistic:                     5.215\n",
      "Date:                Sun, 13 Nov 2022   Prob (F-statistic):           0.000196\n",
      "Time:                        13:54:23   Log-Likelihood:                -95.248\n",
      "No. Observations:                  72   AIC:                             204.5\n",
      "Df Residuals:                      65   BIC:                             220.4\n",
      "Df Model:                           6                                         \n",
      "Covariance Type:            nonrobust                                         \n",
      "===============================================================================\n",
      "                  coef    std err          t      P>|t|      [0.025      0.975]\n",
      "-------------------------------------------------------------------------------\n",
      "const           0.0213      6.491      0.003      0.997     -12.942      12.984\n",
      "LN_Distance    -0.2316      0.501     -0.462      0.646      -1.233       0.769\n",
      "LN_PPOP         0.0623      0.123      0.506      0.614      -0.183       0.308\n",
      "LN_EXRATE       0.1605      0.092      1.736      0.087      -0.024       0.345\n",
      "TFREE_DIFF      0.4757      0.516      0.921      0.360      -0.556       1.507\n",
      "COV19D          1.4107      0.357      3.946      0.000       0.697       2.125\n",
      "LNGDPPCD       -0.5020      0.248     -2.027      0.047      -0.997      -0.007\n",
      "==============================================================================\n",
      "Omnibus:                       80.737   Durbin-Watson:                   1.848\n",
      "Prob(Omnibus):                  0.000   Jarque-Bera (JB):              952.639\n",
      "Skew:                          -3.261   Prob(JB):                    1.37e-207\n",
      "Kurtosis:                      19.584   Cond. No.                     2.30e+03\n",
      "==============================================================================\n",
      "\n",
      "Notes:\n",
      "[1] Standard Errors assume that the covariance matrix of the errors is correctly specified.\n",
      "[2] The condition number is large, 2.3e+03. This might indicate that there are\n",
      "strong multicollinearity or other numerical problems.\n"
     ]
    }
   ],
   "source": [
    "exp_var6 = data[[\"LN_Distance\",\"LN_PPOP\",\"LN_EXRATE\",\"TFREE_DIFF\",\"COV19D\",\"LNGDPPCD\"]]\n",
    "dep_var7 = data[\"LN_GDPPartner\"]\n",
    "\n",
    "exp_var6 = sm.add_constant(exp_var6)\n",
    "exp_var6\n",
    "\n",
    "model7 = sm.OLS(dep_var7, exp_var6)\n",
    "result = model7.fit()\n",
    "print(result.summary()) "
   ]
  },
  {
   "cell_type": "markdown",
   "id": "4b912bb3",
   "metadata": {},
   "source": [
    "Insights\n",
    "- A 1percent increase in occurence of covid, increased the GDP OF EUpartners by 1.5percent\n"
   ]
  },
  {
   "cell_type": "markdown",
   "id": "76d5c2de",
   "metadata": {},
   "source": [
    " #Using fixedeffects"
   ]
  },
  {
   "cell_type": "code",
   "execution_count": 278,
   "id": "1e127145",
   "metadata": {},
   "outputs": [
    {
     "data": {
      "text/html": [
       "<div>\n",
       "<style scoped>\n",
       "    .dataframe tbody tr th:only-of-type {\n",
       "        vertical-align: middle;\n",
       "    }\n",
       "\n",
       "    .dataframe tbody tr th {\n",
       "        vertical-align: top;\n",
       "    }\n",
       "\n",
       "    .dataframe thead th {\n",
       "        text-align: right;\n",
       "    }\n",
       "</style>\n",
       "<table border=\"1\" class=\"dataframe\">\n",
       "  <thead>\n",
       "    <tr style=\"text-align: right;\">\n",
       "      <th></th>\n",
       "      <th></th>\n",
       "      <th>const</th>\n",
       "      <th>LN_Trade</th>\n",
       "    </tr>\n",
       "    <tr>\n",
       "      <th>Country</th>\n",
       "      <th>Year</th>\n",
       "      <th></th>\n",
       "      <th></th>\n",
       "    </tr>\n",
       "  </thead>\n",
       "  <tbody>\n",
       "    <tr>\n",
       "      <th rowspan=\"5\" valign=\"top\">Germany</th>\n",
       "      <th>2010</th>\n",
       "      <td>1.0</td>\n",
       "      <td>22.185866</td>\n",
       "    </tr>\n",
       "    <tr>\n",
       "      <th>2011</th>\n",
       "      <td>1.0</td>\n",
       "      <td>22.399555</td>\n",
       "    </tr>\n",
       "    <tr>\n",
       "      <th>2012</th>\n",
       "      <td>1.0</td>\n",
       "      <td>22.365161</td>\n",
       "    </tr>\n",
       "    <tr>\n",
       "      <th>2013</th>\n",
       "      <td>1.0</td>\n",
       "      <td>22.409972</td>\n",
       "    </tr>\n",
       "    <tr>\n",
       "      <th>2014</th>\n",
       "      <td>1.0</td>\n",
       "      <td>22.382134</td>\n",
       "    </tr>\n",
       "    <tr>\n",
       "      <th>...</th>\n",
       "      <th>...</th>\n",
       "      <td>...</td>\n",
       "      <td>...</td>\n",
       "    </tr>\n",
       "    <tr>\n",
       "      <th rowspan=\"5\" valign=\"top\">Italy</th>\n",
       "      <th>2017</th>\n",
       "      <td>1.0</td>\n",
       "      <td>20.851648</td>\n",
       "    </tr>\n",
       "    <tr>\n",
       "      <th>2018</th>\n",
       "      <td>1.0</td>\n",
       "      <td>20.821635</td>\n",
       "    </tr>\n",
       "    <tr>\n",
       "      <th>2019</th>\n",
       "      <td>1.0</td>\n",
       "      <td>20.680626</td>\n",
       "    </tr>\n",
       "    <tr>\n",
       "      <th>2020</th>\n",
       "      <td>1.0</td>\n",
       "      <td>20.664296</td>\n",
       "    </tr>\n",
       "    <tr>\n",
       "      <th>2021</th>\n",
       "      <td>1.0</td>\n",
       "      <td>21.054887</td>\n",
       "    </tr>\n",
       "  </tbody>\n",
       "</table>\n",
       "<p>72 rows × 2 columns</p>\n",
       "</div>"
      ],
      "text/plain": [
       "              const   LN_Trade\n",
       "Country Year                  \n",
       "Germany 2010    1.0  22.185866\n",
       "        2011    1.0  22.399555\n",
       "        2012    1.0  22.365161\n",
       "        2013    1.0  22.409972\n",
       "        2014    1.0  22.382134\n",
       "...             ...        ...\n",
       "Italy   2017    1.0  20.851648\n",
       "        2018    1.0  20.821635\n",
       "        2019    1.0  20.680626\n",
       "        2020    1.0  20.664296\n",
       "        2021    1.0  21.054887\n",
       "\n",
       "[72 rows x 2 columns]"
      ]
     },
     "execution_count": 278,
     "metadata": {},
     "output_type": "execute_result"
    }
   ],
   "source": [
    "Country = data[\"Country\"]\n",
    "Year = pd.Categorical(data[\"Year\"])\n",
    "data = data.set_index([\"Country\", \"Year\"])\n",
    "data[\"Year\"] = Year\n",
    "\n",
    "dep_var8 = data[\"LN_GDPCHN\"]\n",
    "dep_var9 = data[\"LN_GDPPartner\"]\n",
    "exp_var7 = data[\"LN_Trade\"]\n",
    "\n",
    "exp_var7 = sm.add_constant(exp_var7)\n",
    "exp_var7\n"
   ]
  },
  {
   "cell_type": "markdown",
   "id": "e62023a5",
   "metadata": {},
   "source": [
    "- Trade on China GDP\n"
   ]
  },
  {
   "cell_type": "code",
   "execution_count": 279,
   "id": "6003c7bf",
   "metadata": {},
   "outputs": [
    {
     "name": "stdout",
     "output_type": "stream",
     "text": [
      "                          PanelOLS Estimation Summary                           \n",
      "================================================================================\n",
      "Dep. Variable:              LN_GDPCHN   R-squared:                        0.2398\n",
      "Estimator:                   PanelOLS   R-squared (Between):              0.0000\n",
      "No. Observations:                  72   R-squared (Within):               0.2398\n",
      "Date:                Sun, Nov 13 2022   R-squared (Overall):             -1.1112\n",
      "Time:                        13:54:24   Log-likelihood                   -20.740\n",
      "Cov. Estimator:            Unadjusted                                           \n",
      "                                        F-statistic:                      20.506\n",
      "Entities:                           6   P-value                           0.0000\n",
      "Avg Obs:                       12.000   Distribution:                    F(1,65)\n",
      "Min Obs:                       12.000                                           \n",
      "Max Obs:                       12.000   F-statistic (robust):             20.506\n",
      "                                        P-value                           0.0000\n",
      "Time periods:                      12   Distribution:                    F(1,65)\n",
      "Avg Obs:                       6.0000                                           \n",
      "Min Obs:                       6.0000                                           \n",
      "Max Obs:                       6.0000                                           \n",
      "                                                                                \n",
      "                             Parameter Estimates                              \n",
      "==============================================================================\n",
      "            Parameter  Std. Err.     T-stat    P-value    Lower CI    Upper CI\n",
      "------------------------------------------------------------------------------\n",
      "const          16.551     3.2293     5.1253     0.0000      10.102      23.001\n",
      "LN_Trade      -0.6729     0.1486    -4.5284     0.0000     -0.9697     -0.3761\n",
      "==============================================================================\n",
      "\n",
      "F-test for Poolability: 3.4829\n",
      "P-value: 0.0075\n",
      "Distribution: F(5,65)\n",
      "\n",
      "Included effects: Entity\n"
     ]
    }
   ],
   "source": [
    "model8 = PanelOLS(dep_var8, exp_var7, entity_effects=True)\n",
    "res = model8.fit()\n",
    "print(res)"
   ]
  },
  {
   "cell_type": "markdown",
   "id": "e2baac75",
   "metadata": {},
   "source": [
    "Insights\n",
    "- A 1percent increase in TRADE, increased the GDP OF CHINA by -0.6percent"
   ]
  },
  {
   "cell_type": "markdown",
   "id": "47b61bf6",
   "metadata": {},
   "source": [
    "- TRADE ON EU GDP"
   ]
  },
  {
   "cell_type": "code",
   "execution_count": 280,
   "id": "21cc7f41",
   "metadata": {},
   "outputs": [
    {
     "name": "stdout",
     "output_type": "stream",
     "text": [
      "                          PanelOLS Estimation Summary                           \n",
      "================================================================================\n",
      "Dep. Variable:          LN_GDPPartner   R-squared:                        0.1472\n",
      "Estimator:                   PanelOLS   R-squared (Between):             -14.739\n",
      "No. Observations:                  72   R-squared (Within):               0.1472\n",
      "Date:                Sun, Nov 13 2022   R-squared (Overall):             -0.4306\n",
      "Time:                        13:54:24   Log-likelihood                   -102.24\n",
      "Cov. Estimator:            Unadjusted                                           \n",
      "                                        F-statistic:                      11.219\n",
      "Entities:                           6   P-value                           0.0014\n",
      "Avg Obs:                       12.000   Distribution:                    F(1,65)\n",
      "Min Obs:                       12.000                                           \n",
      "Max Obs:                       12.000   F-statistic (robust):             11.219\n",
      "                                        P-value                           0.0014\n",
      "Time periods:                      12   Distribution:                    F(1,65)\n",
      "Avg Obs:                       6.0000                                           \n",
      "Min Obs:                       6.0000                                           \n",
      "Max Obs:                       6.0000                                           \n",
      "                                                                                \n",
      "                             Parameter Estimates                              \n",
      "==============================================================================\n",
      "            Parameter  Std. Err.     T-stat    P-value    Lower CI    Upper CI\n",
      "------------------------------------------------------------------------------\n",
      "const         -33.064     10.016    -3.3011     0.0016     -53.068     -13.060\n",
      "LN_Trade       1.5438     0.4609     3.3494     0.0014      0.6233      2.4643\n",
      "==============================================================================\n",
      "\n",
      "F-test for Poolability: 1.7695\n",
      "P-value: 0.1316\n",
      "Distribution: F(5,65)\n",
      "\n",
      "Included effects: Entity\n"
     ]
    }
   ],
   "source": [
    "model9 = PanelOLS(dep_var9, exp_var7, entity_effects=True)\n",
    "res = model9.fit()\n",
    "print(res)"
   ]
  },
  {
   "cell_type": "markdown",
   "id": "83f8add9",
   "metadata": {},
   "source": [
    "Insights\n",
    "- A 1percent increase in TRADE, increased the GDP OF EU by 1.5percent"
   ]
  },
  {
   "cell_type": "markdown",
   "id": "1fc58142",
   "metadata": {},
   "source": [
    "- Other factors of trade on gdp china\n"
   ]
  },
  {
   "cell_type": "code",
   "execution_count": 282,
   "id": "c9161043",
   "metadata": {},
   "outputs": [
    {
     "name": "stdout",
     "output_type": "stream",
     "text": [
      "                          PanelOLS Estimation Summary                           \n",
      "================================================================================\n",
      "Dep. Variable:              LN_GDPCHN   R-squared:                        0.6716\n",
      "Estimator:                   PanelOLS   R-squared (Between):              0.0000\n",
      "No. Observations:                  72   R-squared (Within):               0.6716\n",
      "Date:                Sun, Nov 13 2022   R-squared (Overall):              0.4396\n",
      "Time:                        13:54:24   Log-likelihood                    9.4731\n",
      "Cov. Estimator:            Unadjusted                                           \n",
      "                                        F-statistic:                      20.449\n",
      "Entities:                           6   P-value                           0.0000\n",
      "Avg Obs:                       12.000   Distribution:                    F(6,60)\n",
      "Min Obs:                       12.000                                           \n",
      "Max Obs:                       12.000   F-statistic (robust):             20.449\n",
      "                                        P-value                           0.0000\n",
      "Time periods:                      12   Distribution:                    F(6,60)\n",
      "Avg Obs:                       6.0000                                           \n",
      "Min Obs:                       6.0000                                           \n",
      "Max Obs:                       6.0000                                           \n",
      "                                                                                \n",
      "                              Parameter Estimates                              \n",
      "===============================================================================\n",
      "             Parameter  Std. Err.     T-stat    P-value    Lower CI    Upper CI\n",
      "-------------------------------------------------------------------------------\n",
      "const           5.8470     9.8601     0.5930     0.5554     -13.876      25.570\n",
      "LN_Distance     0.0078     0.7969     0.0098     0.9922     -1.5863      1.6020\n",
      "LN_PPOP        -0.0143     0.1010    -0.1420     0.8875     -0.2163      0.1877\n",
      "LN_EXRATE      -0.0012     0.0265    -0.0443     0.9648     -0.0542      0.0518\n",
      "TFREE_DIFF     -1.2023     0.2020    -5.9509     0.0000     -1.6064     -0.7982\n",
      "COV19D         -1.0419     0.0951    -10.955     0.0000     -1.2321     -0.8517\n",
      "LNGDPPCD       -0.1077     0.0609    -1.7690     0.0820     -0.2295      0.0141\n",
      "===============================================================================\n",
      "\n",
      "F-test for Poolability: 4.7364\n",
      "P-value: 0.0010\n",
      "Distribution: F(5,60)\n",
      "\n",
      "Included effects: Entity\n"
     ]
    }
   ],
   "source": [
    "exp_var10 = data[[\"LN_Distance\",\"LN_PPOP\",\"LN_EXRATE\",\"TFREE_DIFF\",\"COV19D\",\"LNGDPPCD\"]]\n",
    "dep_var8 = data[\"LN_GDPCHN\"]\n",
    "\n",
    "exp_var10 = sm.add_constant(exp_var10)\n",
    "exp_var10\n",
    "\n",
    "model10 = PanelOLS(dep_var8, exp_var10, entity_effects=True)\n",
    "res = model10.fit()\n",
    "print(res)\n"
   ]
  },
  {
   "cell_type": "markdown",
   "id": "115ddc56",
   "metadata": {},
   "source": [
    "Insights\n",
    "- A 1percent increase in Difference in TRADE Freedom between both countries, reduced the GDP OF CHINA by -1.2 percent\n",
    "- A 1percent increase in Covid occurence between both countries, reduced the GDP OF CHINA by -1.04 percent"
   ]
  },
  {
   "cell_type": "markdown",
   "id": "4470e3e9",
   "metadata": {},
   "source": [
    "- Other factors of economic growth on gdp EU"
   ]
  },
  {
   "cell_type": "code",
   "execution_count": 290,
   "id": "bc8c4028",
   "metadata": {},
   "outputs": [
    {
     "name": "stdout",
     "output_type": "stream",
     "text": [
      "                          PanelOLS Estimation Summary                           \n",
      "================================================================================\n",
      "Dep. Variable:          LN_GDPPartner   R-squared:                        0.3664\n",
      "Estimator:                   PanelOLS   R-squared (Between):             -2.7660\n",
      "No. Observations:                  72   R-squared (Within):               0.3664\n",
      "Date:                Sun, Nov 13 2022   R-squared (Overall):              0.2448\n",
      "Time:                        20:57:50   Log-likelihood                   -91.544\n",
      "Cov. Estimator:            Unadjusted                                           \n",
      "                                        F-statistic:                      5.7824\n",
      "Entities:                           6   P-value                           0.0001\n",
      "Avg Obs:                       12.000   Distribution:                    F(6,60)\n",
      "Min Obs:                       12.000                                           \n",
      "Max Obs:                       12.000   F-statistic (robust):             5.7824\n",
      "                                        P-value                           0.0001\n",
      "Time periods:                      12   Distribution:                    F(6,60)\n",
      "Avg Obs:                       6.0000                                           \n",
      "Min Obs:                       6.0000                                           \n",
      "Max Obs:                       6.0000                                           \n",
      "                                                                                \n",
      "                              Parameter Estimates                              \n",
      "===============================================================================\n",
      "             Parameter  Std. Err.     T-stat    P-value    Lower CI    Upper CI\n",
      "-------------------------------------------------------------------------------\n",
      "const          -11.375     40.105    -0.2836     0.7777     -91.597      68.847\n",
      "LN_Distance     1.0658     3.2415     0.3288     0.7435     -5.4182      7.5498\n",
      "LN_PPOP         0.0007     0.4107     0.0017     0.9986     -0.8209      0.8223\n",
      "LN_EXRATE       0.2484     0.1077     2.3063     0.0246      0.0330      0.4639\n",
      "TFREE_DIFF      1.0079     0.8218     1.2264     0.2248     -0.6359      2.6516\n",
      "COV19D          1.5671     0.3868     4.0510     0.0001      0.7933      2.3409\n",
      "LNGDPPCD       -0.5077     0.2476    -2.0503     0.0447     -1.0031     -0.0124\n",
      "===============================================================================\n",
      "\n",
      "F-test for Poolability: 1.3005\n",
      "P-value: 0.2758\n",
      "Distribution: F(5,60)\n",
      "\n",
      "Included effects: Entity\n"
     ]
    }
   ],
   "source": [
    "exp_var10 = data[[\"LN_Distance\",\"LN_PPOP\",\"LN_EXRATE\",\"TFREE_DIFF\",\"COV19D\",\"LNGDPPCD\"]]\n",
    "dep_var9 = data[\"LN_GDPPartner\"]\n",
    "\n",
    "exp_var10 = sm.add_constant(exp_var10)\n",
    "exp_var10\n",
    "\n",
    "model12 = PanelOLS(dep_var9, exp_var10, entity_effects=True)\n",
    "res = model12.fit()\n",
    "print(res)"
   ]
  },
  {
   "cell_type": "markdown",
   "id": "716608f2",
   "metadata": {},
   "source": [
    "Insights\n",
    "\n",
    "A 1percent increase in exchange rate between both countries, increased the GDP OF EU by 0.2 percent\n",
    "A 1percent increase in Covid occurence between both countries, increased the GDP OF EU by 1.6 percent"
   ]
  },
  {
   "cell_type": "markdown",
   "id": "b99a328c",
   "metadata": {},
   "source": [
    " Other factors of economic growth on trade"
   ]
  },
  {
   "cell_type": "code",
   "execution_count": 286,
   "id": "d467b1d2",
   "metadata": {},
   "outputs": [
    {
     "name": "stdout",
     "output_type": "stream",
     "text": [
      "                          PanelOLS Estimation Summary                           \n",
      "================================================================================\n",
      "Dep. Variable:               LN_Trade   R-squared:                        0.4827\n",
      "Estimator:                   PanelOLS   R-squared (Between):             -0.0842\n",
      "No. Observations:                  72   R-squared (Within):               0.4827\n",
      "Date:                Sun, Nov 13 2022   R-squared (Overall):              0.0013\n",
      "Time:                        13:54:25   Log-likelihood                    15.999\n",
      "Cov. Estimator:            Unadjusted                                           \n",
      "                                        F-statistic:                      9.3304\n",
      "Entities:                           6   P-value                           0.0000\n",
      "Avg Obs:                       12.000   Distribution:                    F(6,60)\n",
      "Min Obs:                       12.000                                           \n",
      "Max Obs:                       12.000   F-statistic (robust):             9.3304\n",
      "                                        P-value                           0.0000\n",
      "Time periods:                      12   Distribution:                    F(6,60)\n",
      "Avg Obs:                       6.0000                                           \n",
      "Min Obs:                       6.0000                                           \n",
      "Max Obs:                       6.0000                                           \n",
      "                                                                                \n",
      "                              Parameter Estimates                              \n",
      "===============================================================================\n",
      "             Parameter  Std. Err.     T-stat    P-value    Lower CI    Upper CI\n",
      "-------------------------------------------------------------------------------\n",
      "const           20.399     9.0058     2.2651     0.0271      2.3850      38.413\n",
      "LN_Distance     0.4700     0.7279     0.6457     0.5209     -0.9860      1.9260\n",
      "LN_PPOP        -0.0823     0.0922    -0.8924     0.3757     -0.2668      0.1022\n",
      "LN_EXRATE       0.0068     0.0242     0.2808     0.7798     -0.0416      0.0552\n",
      "TFREE_DIFF      0.0888     0.1845     0.4810     0.6323     -0.2804      0.4579\n",
      "COV19D          0.4120     0.0869     4.7424     0.0000      0.2382      0.5857\n",
      "LNGDPPCD       -0.1972     0.0556    -3.5454     0.0008     -0.3084     -0.0859\n",
      "===============================================================================\n",
      "\n",
      "F-test for Poolability: 103.67\n",
      "P-value: 0.0000\n",
      "Distribution: F(5,60)\n",
      "\n",
      "Included effects: Entity\n"
     ]
    }
   ],
   "source": [
    "exp_var10 = data[[\"LN_Distance\",\"LN_PPOP\",\"LN_EXRATE\",\"TFREE_DIFF\",\"COV19D\",\"LNGDPPCD\"]]\n",
    "dep_var10 = data[\"LN_Trade\"]\n",
    "\n",
    "exp_var10 = sm.add_constant(exp_var10)\n",
    "exp_var10\n",
    "\n",
    "model12 = PanelOLS(dep_var10, exp_var10, entity_effects=True)\n",
    "res = model12.fit()\n",
    "print(res)"
   ]
  },
  {
   "cell_type": "markdown",
   "id": "3f0684a8",
   "metadata": {},
   "source": [
    "Insights\n",
    "\n",
    "A 1percent increase in covid occurence, increased the trade by 0.4 percent\n",
    "A 1percent increase in demand differences between both countries, decreased trade by -0.19 percent"
   ]
  },
  {
   "cell_type": "code",
   "execution_count": null,
   "id": "f3d9b4e7",
   "metadata": {},
   "outputs": [],
   "source": []
  }
 ],
 "metadata": {
  "kernelspec": {
   "display_name": "Python 3 (ipykernel)",
   "language": "python",
   "name": "python3"
  },
  "language_info": {
   "codemirror_mode": {
    "name": "ipython",
    "version": 3
   },
   "file_extension": ".py",
   "mimetype": "text/x-python",
   "name": "python",
   "nbconvert_exporter": "python",
   "pygments_lexer": "ipython3",
   "version": "3.10.5"
  }
 },
 "nbformat": 4,
 "nbformat_minor": 5
}
