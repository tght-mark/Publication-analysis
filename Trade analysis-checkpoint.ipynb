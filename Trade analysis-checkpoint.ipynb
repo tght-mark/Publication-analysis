{
 "cells": [
  {
   "cell_type": "code",
   "execution_count": 1,
   "id": "a8bc38f5",
   "metadata": {},
   "outputs": [
    {
     "name": "stdout",
     "output_type": "stream",
     "text": [
      "Requirement already satisfied: pandas in c:\\users\\markt\\appdata\\local\\programs\\python\\python310\\lib\\site-packages (1.5.1)\n",
      "Requirement already satisfied: numpy>=1.21.0 in c:\\users\\markt\\appdata\\local\\programs\\python\\python310\\lib\\site-packages (from pandas) (1.23.4)\n",
      "Requirement already satisfied: pytz>=2020.1 in c:\\users\\markt\\appdata\\local\\programs\\python\\python310\\lib\\site-packages (from pandas) (2022.6)\n",
      "Requirement already satisfied: python-dateutil>=2.8.1 in c:\\users\\markt\\appdata\\local\\programs\\python\\python310\\lib\\site-packages (from pandas) (2.8.2)\n",
      "Requirement already satisfied: six>=1.5 in c:\\users\\markt\\appdata\\local\\programs\\python\\python310\\lib\\site-packages (from python-dateutil>=2.8.1->pandas) (1.16.0)\n"
     ]
    },
    {
     "name": "stderr",
     "output_type": "stream",
     "text": [
      "WARNING: You are using pip version 22.0.4; however, version 22.3.1 is available.\n",
      "You should consider upgrading via the 'C:\\Users\\markt\\AppData\\Local\\Programs\\Python\\Python310\\python.exe -m pip install --upgrade pip' command.\n"
     ]
    },
    {
     "name": "stdout",
     "output_type": "stream",
     "text": [
      "Requirement already satisfied: statsmodels in c:\\users\\markt\\appdata\\local\\programs\\python\\python310\\lib\\site-packages (0.13.5)\n",
      "Requirement already satisfied: numpy>=1.22.3 in c:\\users\\markt\\appdata\\local\\programs\\python\\python310\\lib\\site-packages (from statsmodels) (1.23.4)\n",
      "Requirement already satisfied: scipy>=1.3 in c:\\users\\markt\\appdata\\local\\programs\\python\\python310\\lib\\site-packages (from statsmodels) (1.9.3)\n",
      "Requirement already satisfied: packaging>=21.3 in c:\\users\\markt\\appdata\\local\\programs\\python\\python310\\lib\\site-packages (from statsmodels) (21.3)\n",
      "Requirement already satisfied: patsy>=0.5.2 in c:\\users\\markt\\appdata\\local\\programs\\python\\python310\\lib\\site-packages (from statsmodels) (0.5.3)\n",
      "Requirement already satisfied: pandas>=0.25 in c:\\users\\markt\\appdata\\local\\programs\\python\\python310\\lib\\site-packages (from statsmodels) (1.5.1)\n",
      "Requirement already satisfied: pyparsing!=3.0.5,>=2.0.2 in c:\\users\\markt\\appdata\\local\\programs\\python\\python310\\lib\\site-packages (from packaging>=21.3->statsmodels) (3.0.9)\n",
      "Requirement already satisfied: python-dateutil>=2.8.1 in c:\\users\\markt\\appdata\\local\\programs\\python\\python310\\lib\\site-packages (from pandas>=0.25->statsmodels) (2.8.2)\n",
      "Requirement already satisfied: pytz>=2020.1 in c:\\users\\markt\\appdata\\local\\programs\\python\\python310\\lib\\site-packages (from pandas>=0.25->statsmodels) (2022.6)\n",
      "Requirement already satisfied: six in c:\\users\\markt\\appdata\\local\\programs\\python\\python310\\lib\\site-packages (from patsy>=0.5.2->statsmodels) (1.16.0)\n"
     ]
    },
    {
     "name": "stderr",
     "output_type": "stream",
     "text": [
      "WARNING: You are using pip version 22.0.4; however, version 22.3.1 is available.\n",
      "You should consider upgrading via the 'C:\\Users\\markt\\AppData\\Local\\Programs\\Python\\Python310\\python.exe -m pip install --upgrade pip' command.\n"
     ]
    },
    {
     "name": "stdout",
     "output_type": "stream",
     "text": [
      "Requirement already satisfied: matplotlib in c:\\users\\markt\\appdata\\local\\programs\\python\\python310\\lib\\site-packages (3.6.2)\n",
      "Requirement already satisfied: contourpy>=1.0.1 in c:\\users\\markt\\appdata\\local\\programs\\python\\python310\\lib\\site-packages (from matplotlib) (1.0.6)\n",
      "Requirement already satisfied: kiwisolver>=1.0.1 in c:\\users\\markt\\appdata\\local\\programs\\python\\python310\\lib\\site-packages (from matplotlib) (1.4.4)\n",
      "Requirement already satisfied: numpy>=1.19 in c:\\users\\markt\\appdata\\local\\programs\\python\\python310\\lib\\site-packages (from matplotlib) (1.23.4)\n",
      "Requirement already satisfied: python-dateutil>=2.7 in c:\\users\\markt\\appdata\\local\\programs\\python\\python310\\lib\\site-packages (from matplotlib) (2.8.2)\n",
      "Requirement already satisfied: pyparsing>=2.2.1 in c:\\users\\markt\\appdata\\local\\programs\\python\\python310\\lib\\site-packages (from matplotlib) (3.0.9)\n",
      "Requirement already satisfied: pillow>=6.2.0 in c:\\users\\markt\\appdata\\local\\programs\\python\\python310\\lib\\site-packages (from matplotlib) (9.3.0)\n",
      "Requirement already satisfied: packaging>=20.0 in c:\\users\\markt\\appdata\\local\\programs\\python\\python310\\lib\\site-packages (from matplotlib) (21.3)\n",
      "Requirement already satisfied: fonttools>=4.22.0 in c:\\users\\markt\\appdata\\local\\programs\\python\\python310\\lib\\site-packages (from matplotlib) (4.38.0)\n",
      "Requirement already satisfied: cycler>=0.10 in c:\\users\\markt\\appdata\\local\\programs\\python\\python310\\lib\\site-packages (from matplotlib) (0.11.0)\n",
      "Requirement already satisfied: six>=1.5 in c:\\users\\markt\\appdata\\local\\programs\\python\\python310\\lib\\site-packages (from python-dateutil>=2.7->matplotlib) (1.16.0)\n"
     ]
    },
    {
     "name": "stderr",
     "output_type": "stream",
     "text": [
      "WARNING: You are using pip version 22.0.4; however, version 22.3.1 is available.\n",
      "You should consider upgrading via the 'C:\\Users\\markt\\AppData\\Local\\Programs\\Python\\Python310\\python.exe -m pip install --upgrade pip' command.\n"
     ]
    },
    {
     "name": "stdout",
     "output_type": "stream",
     "text": [
      "Requirement already satisfied: seaborn in c:\\users\\markt\\appdata\\local\\programs\\python\\python310\\lib\\site-packages (0.12.1)\n",
      "Requirement already satisfied: matplotlib!=3.6.1,>=3.1 in c:\\users\\markt\\appdata\\local\\programs\\python\\python310\\lib\\site-packages (from seaborn) (3.6.2)\n",
      "Requirement already satisfied: pandas>=0.25 in c:\\users\\markt\\appdata\\local\\programs\\python\\python310\\lib\\site-packages (from seaborn) (1.5.1)\n",
      "Requirement already satisfied: numpy>=1.17 in c:\\users\\markt\\appdata\\local\\programs\\python\\python310\\lib\\site-packages (from seaborn) (1.23.4)\n",
      "Requirement already satisfied: kiwisolver>=1.0.1 in c:\\users\\markt\\appdata\\local\\programs\\python\\python310\\lib\\site-packages (from matplotlib!=3.6.1,>=3.1->seaborn) (1.4.4)\n",
      "Requirement already satisfied: python-dateutil>=2.7 in c:\\users\\markt\\appdata\\local\\programs\\python\\python310\\lib\\site-packages (from matplotlib!=3.6.1,>=3.1->seaborn) (2.8.2)\n",
      "Requirement already satisfied: pillow>=6.2.0 in c:\\users\\markt\\appdata\\local\\programs\\python\\python310\\lib\\site-packages (from matplotlib!=3.6.1,>=3.1->seaborn) (9.3.0)\n",
      "Requirement already satisfied: contourpy>=1.0.1 in c:\\users\\markt\\appdata\\local\\programs\\python\\python310\\lib\\site-packages (from matplotlib!=3.6.1,>=3.1->seaborn) (1.0.6)\n",
      "Requirement already satisfied: pyparsing>=2.2.1 in c:\\users\\markt\\appdata\\local\\programs\\python\\python310\\lib\\site-packages (from matplotlib!=3.6.1,>=3.1->seaborn) (3.0.9)\n",
      "Requirement already satisfied: fonttools>=4.22.0 in c:\\users\\markt\\appdata\\local\\programs\\python\\python310\\lib\\site-packages (from matplotlib!=3.6.1,>=3.1->seaborn) (4.38.0)\n",
      "Requirement already satisfied: cycler>=0.10 in c:\\users\\markt\\appdata\\local\\programs\\python\\python310\\lib\\site-packages (from matplotlib!=3.6.1,>=3.1->seaborn) (0.11.0)\n",
      "Requirement already satisfied: packaging>=20.0 in c:\\users\\markt\\appdata\\local\\programs\\python\\python310\\lib\\site-packages (from matplotlib!=3.6.1,>=3.1->seaborn) (21.3)\n",
      "Requirement already satisfied: pytz>=2020.1 in c:\\users\\markt\\appdata\\local\\programs\\python\\python310\\lib\\site-packages (from pandas>=0.25->seaborn) (2022.6)\n",
      "Requirement already satisfied: six>=1.5 in c:\\users\\markt\\appdata\\local\\programs\\python\\python310\\lib\\site-packages (from python-dateutil>=2.7->matplotlib!=3.6.1,>=3.1->seaborn) (1.16.0)\n"
     ]
    },
    {
     "name": "stderr",
     "output_type": "stream",
     "text": [
      "WARNING: You are using pip version 22.0.4; however, version 22.3.1 is available.\n",
      "You should consider upgrading via the 'C:\\Users\\markt\\AppData\\Local\\Programs\\Python\\Python310\\python.exe -m pip install --upgrade pip' command.\n"
     ]
    },
    {
     "name": "stdout",
     "output_type": "stream",
     "text": [
      "Requirement already satisfied: numpy in c:\\users\\markt\\appdata\\local\\programs\\python\\python310\\lib\\site-packages (1.23.4)\n"
     ]
    },
    {
     "name": "stderr",
     "output_type": "stream",
     "text": [
      "WARNING: You are using pip version 22.0.4; however, version 22.3.1 is available.\n",
      "You should consider upgrading via the 'C:\\Users\\markt\\AppData\\Local\\Programs\\Python\\Python310\\python.exe -m pip install --upgrade pip' command.\n"
     ]
    },
    {
     "name": "stdout",
     "output_type": "stream",
     "text": [
      "Requirement already satisfied: linearmodels in c:\\users\\markt\\appdata\\local\\programs\\python\\python310\\lib\\site-packages (4.27)\n",
      "Requirement already satisfied: pandas>=0.24 in c:\\users\\markt\\appdata\\local\\programs\\python\\python310\\lib\\site-packages (from linearmodels) (1.5.1)\n",
      "Requirement already satisfied: Cython>=0.29.21 in c:\\users\\markt\\appdata\\local\\programs\\python\\python310\\lib\\site-packages (from linearmodels) (0.29.32)\n",
      "Requirement already satisfied: formulaic~=0.3.2 in c:\\users\\markt\\appdata\\local\\programs\\python\\python310\\lib\\site-packages (from linearmodels) (0.3.4)\n",
      "Requirement already satisfied: mypy-extensions>=0.4 in c:\\users\\markt\\appdata\\local\\programs\\python\\python310\\lib\\site-packages (from linearmodels) (0.4.3)\n",
      "Requirement already satisfied: property-cached>=1.6.3 in c:\\users\\markt\\appdata\\local\\programs\\python\\python310\\lib\\site-packages (from linearmodels) (1.6.4)\n",
      "Requirement already satisfied: scipy>=1.2 in c:\\users\\markt\\appdata\\local\\programs\\python\\python310\\lib\\site-packages (from linearmodels) (1.9.3)\n",
      "Requirement already satisfied: statsmodels>=0.11 in c:\\users\\markt\\appdata\\local\\programs\\python\\python310\\lib\\site-packages (from linearmodels) (0.13.5)\n",
      "Requirement already satisfied: pyhdfe>=0.1 in c:\\users\\markt\\appdata\\local\\programs\\python\\python310\\lib\\site-packages (from linearmodels) (0.1.1)\n",
      "Requirement already satisfied: setuptools-scm<7.0.0,>=6.4.2 in c:\\users\\markt\\appdata\\local\\programs\\python\\python310\\lib\\site-packages (from linearmodels) (6.4.2)\n",
      "Requirement already satisfied: numpy>=1.16 in c:\\users\\markt\\appdata\\local\\programs\\python\\python310\\lib\\site-packages (from linearmodels) (1.23.4)\n",
      "Requirement already satisfied: wrapt>=1.0 in c:\\users\\markt\\appdata\\local\\programs\\python\\python310\\lib\\site-packages (from formulaic~=0.3.2->linearmodels) (1.14.1)\n",
      "Requirement already satisfied: astor>=0.8 in c:\\users\\markt\\appdata\\local\\programs\\python\\python310\\lib\\site-packages (from formulaic~=0.3.2->linearmodels) (0.8.1)\n",
      "Requirement already satisfied: interface-meta<2.0.0,>=1.2.0 in c:\\users\\markt\\appdata\\local\\programs\\python\\python310\\lib\\site-packages (from formulaic~=0.3.2->linearmodels) (1.3.0)\n",
      "Requirement already satisfied: python-dateutil>=2.8.1 in c:\\users\\markt\\appdata\\local\\programs\\python\\python310\\lib\\site-packages (from pandas>=0.24->linearmodels) (2.8.2)\n",
      "Requirement already satisfied: pytz>=2020.1 in c:\\users\\markt\\appdata\\local\\programs\\python\\python310\\lib\\site-packages (from pandas>=0.24->linearmodels) (2022.6)\n",
      "Requirement already satisfied: tomli>=1.0.0 in c:\\users\\markt\\appdata\\local\\programs\\python\\python310\\lib\\site-packages (from setuptools-scm<7.0.0,>=6.4.2->linearmodels) (2.0.1)\n",
      "Requirement already satisfied: setuptools in c:\\users\\markt\\appdata\\local\\programs\\python\\python310\\lib\\site-packages (from setuptools-scm<7.0.0,>=6.4.2->linearmodels) (58.1.0)\n",
      "Requirement already satisfied: packaging>=20.0 in c:\\users\\markt\\appdata\\local\\programs\\python\\python310\\lib\\site-packages (from setuptools-scm<7.0.0,>=6.4.2->linearmodels) (21.3)\n",
      "Requirement already satisfied: patsy>=0.5.2 in c:\\users\\markt\\appdata\\local\\programs\\python\\python310\\lib\\site-packages (from statsmodels>=0.11->linearmodels) (0.5.3)\n",
      "Requirement already satisfied: pyparsing!=3.0.5,>=2.0.2 in c:\\users\\markt\\appdata\\local\\programs\\python\\python310\\lib\\site-packages (from packaging>=20.0->setuptools-scm<7.0.0,>=6.4.2->linearmodels) (3.0.9)\n",
      "Requirement already satisfied: six in c:\\users\\markt\\appdata\\local\\programs\\python\\python310\\lib\\site-packages (from patsy>=0.5.2->statsmodels>=0.11->linearmodels) (1.16.0)\n"
     ]
    },
    {
     "name": "stderr",
     "output_type": "stream",
     "text": [
      "WARNING: You are using pip version 22.0.4; however, version 22.3.1 is available.\n",
      "You should consider upgrading via the 'C:\\Users\\markt\\AppData\\Local\\Programs\\Python\\Python310\\python.exe -m pip install --upgrade pip' command.\n"
     ]
    }
   ],
   "source": [
    "!pip install pandas\n",
    "!pip install statsmodels\n",
    "!pip install matplotlib\n",
    "!pip install seaborn\n",
    "!pip install numpy\n",
    "!pip install linearmodels\n",
    "\n"
   ]
  },
  {
   "cell_type": "code",
   "execution_count": 2,
   "id": "9adc6d3e",
   "metadata": {},
   "outputs": [],
   "source": [
    "import pandas as pd\n",
    "import seaborn as sns\n",
    "import numpy as np\n",
    "import matplotlib.pyplot as plt\n",
    "import statsmodels.api as sm\n",
    "from linearmodels.panel import PanelOLS\n",
    "from linearmodels import RandomEffects"
   ]
  },
  {
   "cell_type": "code",
   "execution_count": 3,
   "id": "de369f31",
   "metadata": {},
   "outputs": [],
   "source": [
    "data = pd.read_csv(\"aggregate_analysis.csv\")"
   ]
  },
  {
   "cell_type": "code",
   "execution_count": 4,
   "id": "5bb30396",
   "metadata": {},
   "outputs": [
    {
     "data": {
      "text/html": [
       "<div>\n",
       "<style scoped>\n",
       "    .dataframe tbody tr th:only-of-type {\n",
       "        vertical-align: middle;\n",
       "    }\n",
       "\n",
       "    .dataframe tbody tr th {\n",
       "        vertical-align: top;\n",
       "    }\n",
       "\n",
       "    .dataframe thead th {\n",
       "        text-align: right;\n",
       "    }\n",
       "</style>\n",
       "<table border=\"1\" class=\"dataframe\">\n",
       "  <thead>\n",
       "    <tr style=\"text-align: right;\">\n",
       "      <th></th>\n",
       "      <th>Year</th>\n",
       "      <th>Country</th>\n",
       "      <th>COV19D</th>\n",
       "      <th>IMPORTS</th>\n",
       "      <th>LN_IMPORTS</th>\n",
       "      <th>EXPORTS</th>\n",
       "      <th>LN_EXPORTS</th>\n",
       "      <th>TRADE</th>\n",
       "      <th>LN_Trade</th>\n",
       "      <th>Distance (km)</th>\n",
       "      <th>...</th>\n",
       "      <th>LNGDPPCD</th>\n",
       "      <th>POPP</th>\n",
       "      <th>POPCHN</th>\n",
       "      <th>LN_PPOP</th>\n",
       "      <th>EXRATE</th>\n",
       "      <th>1/EXRATE</th>\n",
       "      <th>LN_EXRATE</th>\n",
       "      <th>TFreePart</th>\n",
       "      <th>TFreeCHN</th>\n",
       "      <th>TFREE_DIFF</th>\n",
       "    </tr>\n",
       "  </thead>\n",
       "  <tbody>\n",
       "    <tr>\n",
       "      <th>0</th>\n",
       "      <td>2010</td>\n",
       "      <td>Germany</td>\n",
       "      <td>0</td>\n",
       "      <td>2591987825</td>\n",
       "      <td>21.675691</td>\n",
       "      <td>1725180656</td>\n",
       "      <td>21.268598</td>\n",
       "      <td>4.317168e+09</td>\n",
       "      <td>22.185866</td>\n",
       "      <td>20031.0</td>\n",
       "      <td>...</td>\n",
       "      <td>1.751497</td>\n",
       "      <td>81776930</td>\n",
       "      <td>1337705000</td>\n",
       "      <td>39.233727</td>\n",
       "      <td>8.92700</td>\n",
       "      <td>0.112020</td>\n",
       "      <td>-2.189080</td>\n",
       "      <td>87.5</td>\n",
       "      <td>72.4</td>\n",
       "      <td>2.714695</td>\n",
       "    </tr>\n",
       "    <tr>\n",
       "      <th>1</th>\n",
       "      <td>2011</td>\n",
       "      <td>Germany</td>\n",
       "      <td>0</td>\n",
       "      <td>2979152876</td>\n",
       "      <td>21.814905</td>\n",
       "      <td>2366531085</td>\n",
       "      <td>21.584691</td>\n",
       "      <td>5.345684e+09</td>\n",
       "      <td>22.399555</td>\n",
       "      <td>20031.0</td>\n",
       "      <td>...</td>\n",
       "      <td>1.126286</td>\n",
       "      <td>80274983</td>\n",
       "      <td>1345035000</td>\n",
       "      <td>39.220654</td>\n",
       "      <td>9.03000</td>\n",
       "      <td>0.110742</td>\n",
       "      <td>-2.200552</td>\n",
       "      <td>87.6</td>\n",
       "      <td>73.0</td>\n",
       "      <td>2.681022</td>\n",
       "    </tr>\n",
       "    <tr>\n",
       "      <th>2</th>\n",
       "      <td>2012</td>\n",
       "      <td>Germany</td>\n",
       "      <td>0</td>\n",
       "      <td>2705465085</td>\n",
       "      <td>21.718540</td>\n",
       "      <td>2459484622</td>\n",
       "      <td>21.623218</td>\n",
       "      <td>5.164950e+09</td>\n",
       "      <td>22.365161</td>\n",
       "      <td>20031.0</td>\n",
       "      <td>...</td>\n",
       "      <td>1.932153</td>\n",
       "      <td>80425823</td>\n",
       "      <td>1354190000</td>\n",
       "      <td>39.229315</td>\n",
       "      <td>8.14500</td>\n",
       "      <td>0.122775</td>\n",
       "      <td>-2.097404</td>\n",
       "      <td>87.1</td>\n",
       "      <td>73.2</td>\n",
       "      <td>2.631889</td>\n",
       "    </tr>\n",
       "    <tr>\n",
       "      <th>3</th>\n",
       "      <td>2013</td>\n",
       "      <td>Germany</td>\n",
       "      <td>0</td>\n",
       "      <td>2639359939</td>\n",
       "      <td>21.693802</td>\n",
       "      <td>2762299546</td>\n",
       "      <td>21.739329</td>\n",
       "      <td>5.401659e+09</td>\n",
       "      <td>22.409972</td>\n",
       "      <td>20031.0</td>\n",
       "      <td>...</td>\n",
       "      <td>1.929616</td>\n",
       "      <td>80645605</td>\n",
       "      <td>1363240000</td>\n",
       "      <td>39.238705</td>\n",
       "      <td>8.15370</td>\n",
       "      <td>0.122644</td>\n",
       "      <td>-2.098472</td>\n",
       "      <td>86.8</td>\n",
       "      <td>73.6</td>\n",
       "      <td>2.580217</td>\n",
       "    </tr>\n",
       "    <tr>\n",
       "      <th>4</th>\n",
       "      <td>2014</td>\n",
       "      <td>Germany</td>\n",
       "      <td>0</td>\n",
       "      <td>2714297801</td>\n",
       "      <td>21.721799</td>\n",
       "      <td>2539061807</td>\n",
       "      <td>21.655060</td>\n",
       "      <td>5.253360e+09</td>\n",
       "      <td>22.382134</td>\n",
       "      <td>20031.0</td>\n",
       "      <td>...</td>\n",
       "      <td>1.602699</td>\n",
       "      <td>80982500</td>\n",
       "      <td>1371860000</td>\n",
       "      <td>39.249177</td>\n",
       "      <td>7.94020</td>\n",
       "      <td>0.125941</td>\n",
       "      <td>-2.071938</td>\n",
       "      <td>87.8</td>\n",
       "      <td>72.8</td>\n",
       "      <td>2.708050</td>\n",
       "    </tr>\n",
       "    <tr>\n",
       "      <th>...</th>\n",
       "      <td>...</td>\n",
       "      <td>...</td>\n",
       "      <td>...</td>\n",
       "      <td>...</td>\n",
       "      <td>...</td>\n",
       "      <td>...</td>\n",
       "      <td>...</td>\n",
       "      <td>...</td>\n",
       "      <td>...</td>\n",
       "      <td>...</td>\n",
       "      <td>...</td>\n",
       "      <td>...</td>\n",
       "      <td>...</td>\n",
       "      <td>...</td>\n",
       "      <td>...</td>\n",
       "      <td>...</td>\n",
       "      <td>...</td>\n",
       "      <td>...</td>\n",
       "      <td>...</td>\n",
       "      <td>...</td>\n",
       "      <td>...</td>\n",
       "    </tr>\n",
       "    <tr>\n",
       "      <th>67</th>\n",
       "      <td>2017</td>\n",
       "      <td>Italy</td>\n",
       "      <td>0</td>\n",
       "      <td>1039367497</td>\n",
       "      <td>20.761878</td>\n",
       "      <td>1136987397</td>\n",
       "      <td>20.851648</td>\n",
       "      <td>2.176355e+09</td>\n",
       "      <td>20.851648</td>\n",
       "      <td>18099.6</td>\n",
       "      <td>...</td>\n",
       "      <td>1.499964</td>\n",
       "      <td>60536709</td>\n",
       "      <td>1412360000</td>\n",
       "      <td>38.987288</td>\n",
       "      <td>7.79500</td>\n",
       "      <td>0.128287</td>\n",
       "      <td>-2.053483</td>\n",
       "      <td>87.0</td>\n",
       "      <td>72.0</td>\n",
       "      <td>2.708050</td>\n",
       "    </tr>\n",
       "    <tr>\n",
       "      <th>68</th>\n",
       "      <td>2018</td>\n",
       "      <td>Italy</td>\n",
       "      <td>0</td>\n",
       "      <td>1175217819</td>\n",
       "      <td>20.884719</td>\n",
       "      <td>1103369636</td>\n",
       "      <td>20.821635</td>\n",
       "      <td>2.278587e+09</td>\n",
       "      <td>20.821635</td>\n",
       "      <td>18099.6</td>\n",
       "      <td>...</td>\n",
       "      <td>1.635862</td>\n",
       "      <td>60421760</td>\n",
       "      <td>1411100000</td>\n",
       "      <td>38.984495</td>\n",
       "      <td>7.78800</td>\n",
       "      <td>0.128403</td>\n",
       "      <td>-2.052584</td>\n",
       "      <td>86.9</td>\n",
       "      <td>71.6</td>\n",
       "      <td>2.727853</td>\n",
       "    </tr>\n",
       "    <tr>\n",
       "      <th>69</th>\n",
       "      <td>2019</td>\n",
       "      <td>Italy</td>\n",
       "      <td>0</td>\n",
       "      <td>1164018557</td>\n",
       "      <td>20.875144</td>\n",
       "      <td>958256869</td>\n",
       "      <td>20.680626</td>\n",
       "      <td>2.122275e+09</td>\n",
       "      <td>20.680626</td>\n",
       "      <td>18099.6</td>\n",
       "      <td>...</td>\n",
       "      <td>1.363230</td>\n",
       "      <td>59729081</td>\n",
       "      <td>1412360000</td>\n",
       "      <td>38.973857</td>\n",
       "      <td>7.77300</td>\n",
       "      <td>0.128650</td>\n",
       "      <td>-2.050656</td>\n",
       "      <td>86.0</td>\n",
       "      <td>71.6</td>\n",
       "      <td>2.667228</td>\n",
       "    </tr>\n",
       "    <tr>\n",
       "      <th>70</th>\n",
       "      <td>2020</td>\n",
       "      <td>Italy</td>\n",
       "      <td>1</td>\n",
       "      <td>973585482</td>\n",
       "      <td>20.696496</td>\n",
       "      <td>942735432</td>\n",
       "      <td>20.664296</td>\n",
       "      <td>1.916321e+09</td>\n",
       "      <td>20.664296</td>\n",
       "      <td>18099.6</td>\n",
       "      <td>...</td>\n",
       "      <td>2.360334</td>\n",
       "      <td>59449527</td>\n",
       "      <td>1411100000</td>\n",
       "      <td>38.968274</td>\n",
       "      <td>7.91300</td>\n",
       "      <td>0.126374</td>\n",
       "      <td>-2.068507</td>\n",
       "      <td>86.4</td>\n",
       "      <td>72.2</td>\n",
       "      <td>2.653242</td>\n",
       "    </tr>\n",
       "    <tr>\n",
       "      <th>71</th>\n",
       "      <td>2021</td>\n",
       "      <td>Italy</td>\n",
       "      <td>1</td>\n",
       "      <td>1194784884</td>\n",
       "      <td>20.901232</td>\n",
       "      <td>1393224268</td>\n",
       "      <td>21.054887</td>\n",
       "      <td>2.588009e+09</td>\n",
       "      <td>21.054887</td>\n",
       "      <td>18099.6</td>\n",
       "      <td>...</td>\n",
       "      <td>-0.389338</td>\n",
       "      <td>59066225</td>\n",
       "      <td>1412360000</td>\n",
       "      <td>38.962698</td>\n",
       "      <td>7.81725</td>\n",
       "      <td>0.127922</td>\n",
       "      <td>-2.056333</td>\n",
       "      <td>84.0</td>\n",
       "      <td>73.2</td>\n",
       "      <td>2.379546</td>\n",
       "    </tr>\n",
       "  </tbody>\n",
       "</table>\n",
       "<p>72 rows × 30 columns</p>\n",
       "</div>"
      ],
      "text/plain": [
       "    Year  Country  COV19D     IMPORTS  LN_IMPORTS     EXPORTS  LN_EXPORTS  \\\n",
       "0   2010  Germany       0  2591987825   21.675691  1725180656   21.268598   \n",
       "1   2011  Germany       0  2979152876   21.814905  2366531085   21.584691   \n",
       "2   2012  Germany       0  2705465085   21.718540  2459484622   21.623218   \n",
       "3   2013  Germany       0  2639359939   21.693802  2762299546   21.739329   \n",
       "4   2014  Germany       0  2714297801   21.721799  2539061807   21.655060   \n",
       "..   ...      ...     ...         ...         ...         ...         ...   \n",
       "67  2017    Italy       0  1039367497   20.761878  1136987397   20.851648   \n",
       "68  2018    Italy       0  1175217819   20.884719  1103369636   20.821635   \n",
       "69  2019    Italy       0  1164018557   20.875144   958256869   20.680626   \n",
       "70  2020    Italy       1   973585482   20.696496   942735432   20.664296   \n",
       "71  2021    Italy       1  1194784884   20.901232  1393224268   21.054887   \n",
       "\n",
       "               TRADE   LN_Trade  Distance (km)  ...  LNGDPPCD      POPP  \\\n",
       "0       4.317168e+09  22.185866        20031.0  ...  1.751497  81776930   \n",
       "1       5.345684e+09  22.399555        20031.0  ...  1.126286  80274983   \n",
       "2       5.164950e+09  22.365161        20031.0  ...  1.932153  80425823   \n",
       "3       5.401659e+09  22.409972        20031.0  ...  1.929616  80645605   \n",
       "4       5.253360e+09  22.382134        20031.0  ...  1.602699  80982500   \n",
       "..               ...        ...            ...  ...       ...       ...   \n",
       "67      2.176355e+09  20.851648        18099.6  ...  1.499964  60536709   \n",
       "68      2.278587e+09  20.821635        18099.6  ...  1.635862  60421760   \n",
       "69      2.122275e+09  20.680626        18099.6  ...  1.363230  59729081   \n",
       "70      1.916321e+09  20.664296        18099.6  ...  2.360334  59449527   \n",
       "71      2.588009e+09  21.054887        18099.6  ... -0.389338  59066225   \n",
       "\n",
       "        POPCHN    LN_PPOP   EXRATE  1/EXRATE  LN_EXRATE  TFreePart  TFreeCHN  \\\n",
       "0   1337705000  39.233727  8.92700  0.112020  -2.189080       87.5      72.4   \n",
       "1   1345035000  39.220654  9.03000  0.110742  -2.200552       87.6      73.0   \n",
       "2   1354190000  39.229315  8.14500  0.122775  -2.097404       87.1      73.2   \n",
       "3   1363240000  39.238705  8.15370  0.122644  -2.098472       86.8      73.6   \n",
       "4   1371860000  39.249177  7.94020  0.125941  -2.071938       87.8      72.8   \n",
       "..         ...        ...      ...       ...        ...        ...       ...   \n",
       "67  1412360000  38.987288  7.79500  0.128287  -2.053483       87.0      72.0   \n",
       "68  1411100000  38.984495  7.78800  0.128403  -2.052584       86.9      71.6   \n",
       "69  1412360000  38.973857  7.77300  0.128650  -2.050656       86.0      71.6   \n",
       "70  1411100000  38.968274  7.91300  0.126374  -2.068507       86.4      72.2   \n",
       "71  1412360000  38.962698  7.81725  0.127922  -2.056333       84.0      73.2   \n",
       "\n",
       "    TFREE_DIFF  \n",
       "0     2.714695  \n",
       "1     2.681022  \n",
       "2     2.631889  \n",
       "3     2.580217  \n",
       "4     2.708050  \n",
       "..         ...  \n",
       "67    2.708050  \n",
       "68    2.727853  \n",
       "69    2.667228  \n",
       "70    2.653242  \n",
       "71    2.379546  \n",
       "\n",
       "[72 rows x 30 columns]"
      ]
     },
     "execution_count": 4,
     "metadata": {},
     "output_type": "execute_result"
    }
   ],
   "source": [
    "data"
   ]
  },
  {
   "cell_type": "markdown",
   "id": "76d5c2de",
   "metadata": {},
   "source": [
    " # Using fixedeffects"
   ]
  },
  {
   "cell_type": "code",
   "execution_count": 7,
   "id": "1e127145",
   "metadata": {},
   "outputs": [],
   "source": [
    "Country = data[\"Country\"]\n",
    "Year = pd.Categorical(data[\"Year\"])\n",
    "data = data.set_index([\"Country\", \"Year\"])\n",
    "data[\"Year\"] = Year\n"
   ]
  },
  {
   "cell_type": "markdown",
   "id": "1fc58142",
   "metadata": {},
   "source": [
    "## Other factors of trade on gdp china\n"
   ]
  },
  {
   "cell_type": "code",
   "execution_count": 8,
   "id": "c9161043",
   "metadata": {},
   "outputs": [
    {
     "name": "stdout",
     "output_type": "stream",
     "text": [
      "                          PanelOLS Estimation Summary                           \n",
      "================================================================================\n",
      "Dep. Variable:              LN_GDPCHN   R-squared:                        0.7325\n",
      "Estimator:                   PanelOLS   R-squared (Between):              0.0000\n",
      "No. Observations:                  72   R-squared (Within):               0.7325\n",
      "Date:                Sun, Nov 27 2022   R-squared (Overall):              0.1187\n",
      "Time:                        13:39:30   Log-likelihood                    16.863\n",
      "Cov. Estimator:            Unadjusted                                           \n",
      "                                        F-statistic:                      33.412\n",
      "Entities:                           6   P-value                           0.0000\n",
      "Avg Obs:                       12.000   Distribution:                    F(5,61)\n",
      "Min Obs:                       12.000                                           \n",
      "Max Obs:                       12.000   F-statistic (robust):             33.412\n",
      "                                        P-value                           0.0000\n",
      "Time periods:                      12   Distribution:                    F(5,61)\n",
      "Avg Obs:                       6.0000                                           \n",
      "Min Obs:                       6.0000                                           \n",
      "Max Obs:                       6.0000                                           \n",
      "                                                                                \n",
      "                             Parameter Estimates                              \n",
      "==============================================================================\n",
      "            Parameter  Std. Err.     T-stat    P-value    Lower CI    Upper CI\n",
      "------------------------------------------------------------------------------\n",
      "const          15.471     2.7404     5.6456     0.0000      9.9916      20.951\n",
      "LN_Trade      -0.4657     0.1248    -3.7321     0.0004     -0.7152     -0.2162\n",
      "LN_EXRATE      0.0016     0.0237     0.0686     0.9456     -0.0458      0.0490\n",
      "TFREE_DIFF    -1.1427     0.1469    -7.7769     0.0000     -1.4366     -0.8489\n",
      "COV19D        -0.8515     0.0992    -8.5795     0.0000     -1.0500     -0.6530\n",
      "LNGDPPCD      -0.2023     0.0597    -3.3905     0.0012     -0.3216     -0.0830\n",
      "==============================================================================\n",
      "\n",
      "F-test for Poolability: 7.2556\n",
      "P-value: 0.0000\n",
      "Distribution: F(5,61)\n",
      "\n",
      "Included effects: Entity\n"
     ]
    }
   ],
   "source": [
    "exp_var10 = data[[\"LN_Trade\",\"LN_EXRATE\",\"TFREE_DIFF\",\"COV19D\",\"LNGDPPCD\"]]\n",
    "dep_var8 = data[\"LN_GDPCHN\"]\n",
    "\n",
    "exp_var10 = sm.add_constant(exp_var10)\n",
    "exp_var10\n",
    "\n",
    "model10 = PanelOLS(dep_var8, exp_var10, entity_effects=True)\n",
    "res = model10.fit()\n",
    "print(res)\n"
   ]
  },
  {
   "cell_type": "markdown",
   "id": "115ddc56",
   "metadata": {},
   "source": [
    "Insights\n",
    "- A 1percent increase in Difference in TRADE Freedom between both countries, reduced the GDP OF CHINA by -1.2 percent\n",
    "- A 1percent increase in Covid occurence between both countries, reduced the GDP OF CHINA by -1.04 percent"
   ]
  },
  {
   "cell_type": "markdown",
   "id": "4470e3e9",
   "metadata": {},
   "source": [
    "## Other factors of economic growth on gdp EU"
   ]
  },
  {
   "cell_type": "code",
   "execution_count": 9,
   "id": "bc8c4028",
   "metadata": {},
   "outputs": [
    {
     "name": "stdout",
     "output_type": "stream",
     "text": [
      "                          PanelOLS Estimation Summary                           \n",
      "================================================================================\n",
      "Dep. Variable:          LN_GDPPartner   R-squared:                        0.3652\n",
      "Estimator:                   PanelOLS   R-squared (Between):             -0.9802\n",
      "No. Observations:                  72   R-squared (Within):               0.3652\n",
      "Date:                Sun, Nov 27 2022   R-squared (Overall):              0.3130\n",
      "Time:                        13:39:30   Log-likelihood                   -91.609\n",
      "Cov. Estimator:            Unadjusted                                           \n",
      "                                        F-statistic:                      7.0195\n",
      "Entities:                           6   P-value                           0.0000\n",
      "Avg Obs:                       12.000   Distribution:                    F(5,61)\n",
      "Min Obs:                       12.000                                           \n",
      "Max Obs:                       12.000   F-statistic (robust):             7.0195\n",
      "                                        P-value                           0.0000\n",
      "Time periods:                      12   Distribution:                    F(5,61)\n",
      "Avg Obs:                       6.0000                                           \n",
      "Min Obs:                       6.0000                                           \n",
      "Max Obs:                       6.0000                                           \n",
      "                                                                                \n",
      "                             Parameter Estimates                              \n",
      "==============================================================================\n",
      "            Parameter  Std. Err.     T-stat    P-value    Lower CI    Upper CI\n",
      "------------------------------------------------------------------------------\n",
      "const         -1.8979     12.363    -0.1535     0.8785     -26.618      22.823\n",
      "LN_Trade       0.0508     0.5629     0.0902     0.9284     -1.0748      1.1763\n",
      "LN_EXRATE      0.2487     0.1069     2.3266     0.0233      0.0350      0.4625\n",
      "TFREE_DIFF     0.9040     0.6629     1.3638     0.1776     -0.4215      2.2295\n",
      "COV19D         1.5431     0.4477     3.4464     0.0010      0.6478      2.4383\n",
      "LNGDPPCD      -0.4949     0.2691    -1.8389     0.0708     -1.0330      0.0433\n",
      "==============================================================================\n",
      "\n",
      "F-test for Poolability: 0.3425\n",
      "P-value: 0.8851\n",
      "Distribution: F(5,61)\n",
      "\n",
      "Included effects: Entity\n"
     ]
    }
   ],
   "source": [
    "exp_var10 = data[[\"LN_Trade\",\"LN_EXRATE\",\"TFREE_DIFF\",\"COV19D\",\"LNGDPPCD\"]]\n",
    "dep_var9 = data[\"LN_GDPPartner\"]\n",
    "\n",
    "exp_var10 = sm.add_constant(exp_var10)\n",
    "exp_var10\n",
    "\n",
    "model12 = PanelOLS(dep_var9, exp_var10, entity_effects=True)\n",
    "res = model12.fit()\n",
    "print(res)"
   ]
  },
  {
   "cell_type": "markdown",
   "id": "716608f2",
   "metadata": {},
   "source": [
    "Insights\n",
    "\n",
    "- A 1percent increase in exchange rate between both countries, increased the GDP OF EU by 0.2 percent\n",
    "- A 1percent increase in Covid occurence between both countries, increased the GDP OF EU by 1.6 percent"
   ]
  },
  {
   "cell_type": "markdown",
   "id": "b99a328c",
   "metadata": {},
   "source": [
    " ## Other factors of economic growth on trade"
   ]
  },
  {
   "cell_type": "code",
   "execution_count": 10,
   "id": "d467b1d2",
   "metadata": {
    "scrolled": true
   },
   "outputs": [
    {
     "name": "stdout",
     "output_type": "stream",
     "text": [
      "                          PanelOLS Estimation Summary                           \n",
      "================================================================================\n",
      "Dep. Variable:               LN_Trade   R-squared:                        0.4827\n",
      "Estimator:                   PanelOLS   R-squared (Between):             -0.0842\n",
      "No. Observations:                  72   R-squared (Within):               0.4827\n",
      "Date:                Sun, Nov 27 2022   R-squared (Overall):              0.0013\n",
      "Time:                        13:39:30   Log-likelihood                    15.999\n",
      "Cov. Estimator:            Unadjusted                                           \n",
      "                                        F-statistic:                      9.3304\n",
      "Entities:                           6   P-value                           0.0000\n",
      "Avg Obs:                       12.000   Distribution:                    F(6,60)\n",
      "Min Obs:                       12.000                                           \n",
      "Max Obs:                       12.000   F-statistic (robust):             9.3304\n",
      "                                        P-value                           0.0000\n",
      "Time periods:                      12   Distribution:                    F(6,60)\n",
      "Avg Obs:                       6.0000                                           \n",
      "Min Obs:                       6.0000                                           \n",
      "Max Obs:                       6.0000                                           \n",
      "                                                                                \n",
      "                              Parameter Estimates                              \n",
      "===============================================================================\n",
      "             Parameter  Std. Err.     T-stat    P-value    Lower CI    Upper CI\n",
      "-------------------------------------------------------------------------------\n",
      "const           20.399     9.0058     2.2651     0.0271      2.3850      38.413\n",
      "LN_Distance     0.4700     0.7279     0.6457     0.5209     -0.9860      1.9260\n",
      "LN_PPOP        -0.0823     0.0922    -0.8924     0.3757     -0.2668      0.1022\n",
      "LN_EXRATE       0.0068     0.0242     0.2808     0.7798     -0.0416      0.0552\n",
      "TFREE_DIFF      0.0888     0.1845     0.4810     0.6323     -0.2804      0.4579\n",
      "COV19D          0.4120     0.0869     4.7424     0.0000      0.2382      0.5857\n",
      "LNGDPPCD       -0.1972     0.0556    -3.5454     0.0008     -0.3084     -0.0859\n",
      "===============================================================================\n",
      "\n",
      "F-test for Poolability: 103.67\n",
      "P-value: 0.0000\n",
      "Distribution: F(5,60)\n",
      "\n",
      "Included effects: Entity\n"
     ]
    }
   ],
   "source": [
    "exp_var10 = data[[\"LN_Distance\",\"LN_PPOP\",\"LN_EXRATE\",\"TFREE_DIFF\",\"COV19D\",\"LNGDPPCD\"]]\n",
    "dep_var10 = data[\"LN_Trade\"]\n",
    "\n",
    "exp_var10 = sm.add_constant(exp_var10)\n",
    "exp_var10\n",
    "\n",
    "model12 = PanelOLS(dep_var10, exp_var10, entity_effects=True)\n",
    "res = model12.fit()\n",
    "print(res)"
   ]
  },
  {
   "cell_type": "markdown",
   "id": "3f0684a8",
   "metadata": {},
   "source": [
    "Insights\n",
    "\n",
    "A 1percent increase in covid occurence, increased the trade by 0.4 percent\n",
    "A 1percent increase in demand differences between both countries, decreased trade by -0.19 percent"
   ]
  },
  {
   "cell_type": "markdown",
   "id": "0d11c5d6",
   "metadata": {},
   "source": [
    "## Forecasting\n"
   ]
  },
  {
   "cell_type": "code",
   "execution_count": 17,
   "id": "27ea4193",
   "metadata": {
    "scrolled": true
   },
   "outputs": [
    {
     "name": "stderr",
     "output_type": "stream",
     "text": [
      "WARNING: You are using pip version 22.0.4; however, version 22.3.1 is available.\n",
      "You should consider upgrading via the 'C:\\Users\\markt\\AppData\\Local\\Programs\\Python\\Python310\\python.exe -m pip install --upgrade pip' command.\n"
     ]
    },
    {
     "name": "stdout",
     "output_type": "stream",
     "text": [
      "Requirement already satisfied: scikit-learn in c:\\users\\markt\\appdata\\local\\programs\\python\\python310\\lib\\site-packages (1.1.3)\n",
      "Requirement already satisfied: numpy>=1.17.3 in c:\\users\\markt\\appdata\\local\\programs\\python\\python310\\lib\\site-packages (from scikit-learn) (1.23.4)\n",
      "Requirement already satisfied: scipy>=1.3.2 in c:\\users\\markt\\appdata\\local\\programs\\python\\python310\\lib\\site-packages (from scikit-learn) (1.9.3)\n",
      "Requirement already satisfied: threadpoolctl>=2.0.0 in c:\\users\\markt\\appdata\\local\\programs\\python\\python310\\lib\\site-packages (from scikit-learn) (3.1.0)\n",
      "Requirement already satisfied: joblib>=1.0.0 in c:\\users\\markt\\appdata\\local\\programs\\python\\python310\\lib\\site-packages (from scikit-learn) (1.2.0)\n"
     ]
    }
   ],
   "source": [
    "!pip install -U scikit-learn\n",
    "from sklearn.model_selection import train_test_split\n",
    "from sklearn import linear_model\n"
   ]
  },
  {
   "cell_type": "markdown",
   "id": "37c55555",
   "metadata": {},
   "source": [
    "## For Trade and other Factors of growth on GDP China"
   ]
  },
  {
   "cell_type": "code",
   "execution_count": 19,
   "id": "8b8d7311",
   "metadata": {},
   "outputs": [],
   "source": [
    "data = pd.read_csv(\"aggregate_analysis.csv\")\n",
    "variables = [\"LN_Trade\",\"LN_EXRATE\",\"TFREE_DIFF\",\"COV19D\",\"LNGDPPCD\"]\n",
    "target = \"LN_GDPCHN\"\n",
    "\n",
    "X = data[variables].values.reshape(-1, len(variables))\n",
    "y = data[target].values\n",
    "\n",
    "ols = linear_model.LinearRegression()\n",
    "model = ols.fit(X, y)"
   ]
  },
  {
   "cell_type": "code",
   "execution_count": 20,
   "id": "31f86d35",
   "metadata": {},
   "outputs": [
    {
     "data": {
      "text/plain": [
       "array([-0.10846356, -0.01907011, -0.71588136, -0.83132475, -0.15600653])"
      ]
     },
     "execution_count": 20,
     "metadata": {},
     "output_type": "execute_result"
    }
   ],
   "source": [
    "model.coef_"
   ]
  },
  {
   "cell_type": "code",
   "execution_count": 21,
   "id": "2721ac84",
   "metadata": {},
   "outputs": [
    {
     "data": {
      "text/plain": [
       "0.5734530927250463"
      ]
     },
     "execution_count": 21,
     "metadata": {},
     "output_type": "execute_result"
    }
   ],
   "source": [
    "model.score(X, y) #Rsquare"
   ]
  },
  {
   "cell_type": "markdown",
   "id": "4218c26a",
   "metadata": {},
   "source": [
    "- Input desirable prediction (natural log) values below"
   ]
  },
  {
   "cell_type": "code",
   "execution_count": null,
   "id": "f10446c1",
   "metadata": {},
   "outputs": [],
   "source": [
    "x_pred = np.array([]) #according to variables array\n",
    "x_pred = x_pred.reshape(-1, len(variables))"
   ]
  },
  {
   "cell_type": "markdown",
   "id": "ab06a2c3",
   "metadata": {},
   "source": [
    "- Run code below"
   ]
  },
  {
   "cell_type": "code",
   "execution_count": null,
   "id": "899e35c3",
   "metadata": {},
   "outputs": [],
   "source": [
    "model.predict(x_pred)"
   ]
  },
  {
   "cell_type": "markdown",
   "id": "1cec37eb",
   "metadata": {},
   "source": [
    "## For Trade and other Factors of growth on GDP EU"
   ]
  },
  {
   "cell_type": "code",
   "execution_count": 30,
   "id": "34eb3382",
   "metadata": {},
   "outputs": [],
   "source": [
    "data = pd.read_csv(\"aggregate_analysis.csv\")\n",
    "variables2 = [\"LN_Trade\",\"LN_EXRATE\",\"TFREE_DIFF\",\"COV19D\",\"LNGDPPCD\"]\n",
    "target2 = \"LN_GDPPartner\"\n",
    "\n",
    "X = data[variables2].values.reshape(-1, len(variables2))\n",
    "y = data[target2].values\n",
    "\n",
    "ols = linear_model.LinearRegression()\n",
    "model2 = ols.fit(X, y)"
   ]
  },
  {
   "cell_type": "code",
   "execution_count": 32,
   "id": "70de9a64",
   "metadata": {},
   "outputs": [
    {
     "data": {
      "text/plain": [
       "array([ 0.40751055,  0.22249768,  0.64579771,  1.32488081, -0.4068181 ])"
      ]
     },
     "execution_count": 32,
     "metadata": {},
     "output_type": "execute_result"
    }
   ],
   "source": [
    "model2.coef_"
   ]
  },
  {
   "cell_type": "code",
   "execution_count": 34,
   "id": "8aa98e59",
   "metadata": {},
   "outputs": [
    {
     "data": {
      "text/plain": [
       "0.37273327980687165"
      ]
     },
     "execution_count": 34,
     "metadata": {},
     "output_type": "execute_result"
    }
   ],
   "source": [
    "model2.score(X, y) #Rsquare"
   ]
  },
  {
   "cell_type": "markdown",
   "id": "1b95db30",
   "metadata": {},
   "source": [
    "- Input desirable prediction (natural log) values below "
   ]
  },
  {
   "cell_type": "code",
   "execution_count": null,
   "id": "9797a72c",
   "metadata": {},
   "outputs": [],
   "source": [
    "x_pred1 = np.array([]) #according to variables array\n",
    "x_pred1 = x_pred.reshape(-1, len(variables2))"
   ]
  },
  {
   "cell_type": "markdown",
   "id": "9a82ace3",
   "metadata": {},
   "source": [
    "- Run code below"
   ]
  },
  {
   "cell_type": "code",
   "execution_count": null,
   "id": "c9db6516",
   "metadata": {},
   "outputs": [],
   "source": [
    "model2.predict(x_pred1)"
   ]
  }
 ],
 "metadata": {
  "kernelspec": {
   "display_name": "Python 3 (ipykernel)",
   "language": "python",
   "name": "python3"
  },
  "language_info": {
   "codemirror_mode": {
    "name": "ipython",
    "version": 3
   },
   "file_extension": ".py",
   "mimetype": "text/x-python",
   "name": "python",
   "nbconvert_exporter": "python",
   "pygments_lexer": "ipython3",
   "version": "3.10.5"
  }
 },
 "nbformat": 4,
 "nbformat_minor": 5
}
